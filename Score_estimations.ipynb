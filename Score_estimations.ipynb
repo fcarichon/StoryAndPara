{
 "cells": [
  {
   "cell_type": "code",
   "execution_count": 1,
   "id": "fed07b2c-d461-476e-8ee6-a22b9eb9b60d",
   "metadata": {
    "tags": []
   },
   "outputs": [],
   "source": [
    "import pandas as pd\n",
    "import os\n",
    "import spacy \n",
    "nlp = spacy.load(\"en_core_web_sm\")\n",
    "from tqdm import tqdm\n",
    "from collections import defaultdict\n",
    "import statistics"
   ]
  },
  {
   "cell_type": "markdown",
   "id": "37d56bfe-a5a5-4aec-9f60-58cb63efd781",
   "metadata": {
    "jp-MarkdownHeadingCollapsed": true
   },
   "source": [
    "# Score Storytelling"
   ]
  },
  {
   "cell_type": "raw",
   "id": "1b426d65-9f78-4cf5-858c-515ac2473502",
   "metadata": {},
   "source": [
    "Calcul du score Storytelling -- AK (Most Common) à ignorer\n",
    "                             -- Colonne AP (Consistence) -- a normaliser par la valeur max pour ramener un truc cohérent entre 0 et 1\n",
    "                             -- Pondérer new_logic_order_temp (colonne BH/BI) * 0.1 -- vraiment plus faible (exemple le Flashback)\n",
    "                             "
   ]
  },
  {
   "cell_type": "code",
   "execution_count": 2,
   "id": "e7ca62f4-fc03-413f-abdd-dbee5f86f8c8",
   "metadata": {
    "tags": []
   },
   "outputs": [],
   "source": [
    "df_storytell = pd.read_csv('data/Valid_Storytelling_withVariable_VF_new3.csv')\n",
    "#df_storytell = pd.read_csv('data/Test_Storytelling_withVariable_VF_new3.csv')"
   ]
  },
  {
   "cell_type": "code",
   "execution_count": 3,
   "id": "30040dcc-6ea6-4bab-a732-4189c9f87186",
   "metadata": {
    "tags": []
   },
   "outputs": [
    {
     "data": {
      "text/plain": [
       "Index(['PostSysID', 'AccountName', 'PostDate', 'PostID', 'PostUser',\n",
       "       'PostText', 'MediaType', 'MediaLink', 'PlatformSysID', 'com_ct',\n",
       "       'Angries', 'Comments Likes', 'Engagement', 'Hahas', 'Likes', 'Loves',\n",
       "       'Replies', 'Retweets', 'Sads', 'Shares', 'Thankfuls', 'Views', 'Wows',\n",
       "       'LIWC', 'Perspective', 'VADER', 'Intrigue_Prop_Change_Sent',\n",
       "       'Conflictual_Event', 'Conflict_two_persos', 'Climax_increase',\n",
       "       'first_person_sing', 'first_person_plur', 'second_person',\n",
       "       'third_person_sing', 'third_person_plur', 'Binary_Entity',\n",
       "       'Most_common_pronoun', 'Ratio_sentences_2_persos', 'EN_sent_subj',\n",
       "       'Intrigue_Diversity', 'Intrigue_Sentence_Homogeneity',\n",
       "       'Intrigue_Consistence', 'Causal_Coherence', 'Longest_Causal_Sequence',\n",
       "       'IntraSentence_Causality', 'Presence_Dates', 'Logic_order_temporality',\n",
       "       'Prop_temp_use', 'Logic_order_conjuguation',\n",
       "       'Intrigue_Prop_Change_Sent.1', 'Conflictual_Event.1',\n",
       "       'Conflict_two_persos.1', 'Climax_increase.1',\n",
       "       'new_Intrigue_Sentence_Homogeneity', 'new_Intrigue_Consistence',\n",
       "       'new_IntraSentence_Causality', 'new_Prop_temp_use',\n",
       "       'new_Logic_order_temporality', 'new_Intrigue_Prop_Change_Sent',\n",
       "       'new_Climax_increase', 'Neg_sentence_presence'],\n",
       "      dtype='object')"
      ]
     },
     "execution_count": 3,
     "metadata": {},
     "output_type": "execute_result"
    }
   ],
   "source": [
    "df_storytell.columns"
   ]
  },
  {
   "cell_type": "markdown",
   "id": "05cb3eb7-9bfd-406a-8637-3defc3d01608",
   "metadata": {},
   "source": [
    "## Score personnages"
   ]
  },
  {
   "cell_type": "code",
   "execution_count": 4,
   "id": "9b7aa24a-2c8d-4d97-92ab-c235b0a888d7",
   "metadata": {
    "tags": []
   },
   "outputs": [],
   "source": [
    "def score_perso(df):\n",
    "    \n",
    "    scores = []\n",
    "    list_first_sing = list(df['first_person_sing'])\n",
    "    list_first_plur = list(df['first_person_plur'])\n",
    "    list_second = list(df['second_person'])\n",
    "    list_third_sing = list(df['third_person_sing'])\n",
    "    list_third_plur = list(df['third_person_plur'])\n",
    "    list_binary_entity = list(df['Binary_Entity'])\n",
    "    list_2_persos = list(df['Ratio_sentences_2_persos'])\n",
    "    \n",
    "    for i in tqdm(range(len(list_first_sing))):\n",
    "        \n",
    "        #First condition -- if no characters -- score = 0 here\n",
    "        if list_first_sing[i] + list_first_plur[i] + list_second[i] + list_third_sing[i] + list_third_plur[i] == 0:\n",
    "            score_perso = 0\n",
    "            \n",
    "        else: \n",
    "            score_perso = (0.650 * list_first_sing[i] + 0.674 * list_first_plur[i] + 0.722 * list_second[i] \n",
    "                           + 0.645 * list_third_sing[i] + 0.685 * list_third_plur[i] + 0.602 * list_binary_entity[i] + 0.685 * list_2_persos[i])\n",
    "            score_perso = score_perso / (0.650 + 0.674 + 0.722 + 0.645 + 0.685 + 0.602 + 0.685)\n",
    "        scores.append(score_perso)\n",
    "    \n",
    "    df['score_perso'] = scores\n",
    "    return df"
   ]
  },
  {
   "cell_type": "markdown",
   "id": "ad898594-bf1c-4c8b-bc47-e76a8fccc7f1",
   "metadata": {},
   "source": [
    "## Score intrigue"
   ]
  },
  {
   "cell_type": "code",
   "execution_count": 14,
   "id": "e367b155-d195-432e-a8a2-8fed26695886",
   "metadata": {
    "tags": []
   },
   "outputs": [],
   "source": [
    "def score_intrigue(df):\n",
    "    \n",
    "    scores = []\n",
    "    list_diversity = list(df['Intrigue_Diversity'])\n",
    "    #list_homogeneity = list(df['new_Intrigue_Sentence_Homogeneity'])\n",
    "    #list_heterogeneity = [(1 - x) for x in list_homogeneity]\n",
    "    list_heterogeneity = list(df['new_Intrigue_Sentence_Heterogeneity'])\n",
    "    list_consistence = list(df['new_Intrigue_Consistence'])\n",
    "    list_coherence = list(df['Causal_Coherence'])\n",
    "    list_causal_sequence = list(df['new_Longest_Causal_Sequence'])\n",
    "    #list_causal_sequence = list(df['Longest_Causal_Sequence'])\n",
    "    list_causality = list(df['new_IntraSentence_Causality'])\n",
    "    list_dates = list(df['Presence_Dates'])\n",
    "    list_logic_order = list(df['new_Logic_order_temporality'])\n",
    "    list_temp_use = list(df['new_Prop_temp_use'])\n",
    "    list_conjuguation = list(df['Logic_order_conjuguation'])\n",
    "    list_prop_change_sent = list(df['new_Intrigue_Prop_Change_Sent'])\n",
    "    \n",
    "    for i in tqdm(range(len(list_diversity))):\n",
    "        score_intrigue = (0.494 * list_diversity[i] + 0.259 * list_heterogeneity[i] + 0.347 * list_consistence[i] + 0.462 * list_coherence[i] + \n",
    "                          1.003 * list_causal_sequence[i] + 0.944 * list_causality[i] + 0.576 * list_dates[i] + 0.676 * list_logic_order[i] +\n",
    "                          0.240 * list_temp_use[i] + 0.384 * list_conjuguation[i] + 0.484 * list_prop_change_sent[i])\n",
    "        \n",
    "        score_intrigue = score_intrigue / (0.494 + 0.259 + 0.347 + 0.462 + 1.003 + 0.944 + 0.576 + 0.676 + 0.240 + 0.384 + 0.484)\n",
    "        \n",
    "        scores.append(score_intrigue)\n",
    "    \n",
    "    df['score_intrigue'] = scores\n",
    "    return df"
   ]
  },
  {
   "cell_type": "markdown",
   "id": "d4275e33-b4d8-483b-940a-2990958182c8",
   "metadata": {},
   "source": [
    "## Score conflit"
   ]
  },
  {
   "cell_type": "code",
   "execution_count": 15,
   "id": "409943cf-5c87-4226-9702-f9351e8a0f36",
   "metadata": {
    "tags": []
   },
   "outputs": [],
   "source": [
    "def score_conflict(df):\n",
    "    \n",
    "    scores = []\n",
    "    list_event = list(df['Conflictual_Event'])\n",
    "    list_two_persos = list(df['Conflict_two_persos'])\n",
    "    list_climax_increase = list(df['new_Climax_increase'])\n",
    "    list_neg_sentence = list(df['Neg_sentence_presence'])\n",
    "    \n",
    "    for i in tqdm(range(len(list_event))):\n",
    "        score_intrigue = (0.751 * list_event[i] + 0.819 * list_two_persos[i] + 0.994 * list_climax_increase[i] + 0.521 * list_neg_sentence[i])\n",
    "        score_intrigue = score_intrigue / (0.751 + 0.819 + 0.994 + 0.521)\n",
    "        \n",
    "        scores.append(score_intrigue)\n",
    "        \n",
    "    df['score_conflict'] = scores\n",
    "    \n",
    "    return df"
   ]
  },
  {
   "cell_type": "markdown",
   "id": "e9ecb863-8e89-47d5-9ab4-e3d9758cf5cc",
   "metadata": {},
   "source": [
    "## Score final"
   ]
  },
  {
   "cell_type": "code",
   "execution_count": 16,
   "id": "d38bef2e-34d4-40f5-bf9b-3f324ca22110",
   "metadata": {
    "tags": []
   },
   "outputs": [
    {
     "name": "stderr",
     "output_type": "stream",
     "text": [
      "100%|█████████████████████████████████████████████████████████████████████████| 4998/4998 [00:00<00:00, 4998362.28it/s]\n",
      "100%|█████████████████████████████████████████████████████████████████████████| 4998/4998 [00:00<00:00, 2494719.91it/s]\n",
      "100%|█████████████████████████████████████████████████████████████████████████| 4998/4998 [00:00<00:00, 4995979.84it/s]\n"
     ]
    }
   ],
   "source": [
    "df_score = score_perso(df_storytell)\n",
    "df_score = score_intrigue(df_score)\n",
    "df_score = score_conflict(df_score)"
   ]
  },
  {
   "cell_type": "code",
   "execution_count": 17,
   "id": "659c9f85-6f7d-4c9b-bd00-6cf0f3e2698d",
   "metadata": {
    "tags": []
   },
   "outputs": [
    {
     "data": {
      "text/plain": [
       "Index(['PostSysID', 'AccountName', 'PostDate', 'PostID', 'PostUser',\n",
       "       'PostText', 'MediaType', 'MediaLink', 'PlatformSysID', 'com_ct',\n",
       "       'Angries', 'Comments Likes', 'Engagement', 'Hahas', 'Likes', 'Loves',\n",
       "       'Replies', 'Retweets', 'Sads', 'Shares', 'Thankfuls', 'Views', 'Wows',\n",
       "       'LIWC', 'Perspective', 'VADER', 'Intrigue_Prop_Change_Sent',\n",
       "       'Conflictual_Event', 'Conflict_two_persos', 'Climax_increase',\n",
       "       'first_person_sing', 'first_person_plur', 'second_person',\n",
       "       'third_person_sing', 'third_person_plur', 'Binary_Entity',\n",
       "       'Most_common_pronoun', 'Ratio_sentences_2_persos', 'EN_sent_subj',\n",
       "       'Intrigue_Diversity', 'Intrigue_Sentence_Homogeneity',\n",
       "       'Intrigue_Consistence', 'Causal_Coherence', 'Longest_Causal_Sequence',\n",
       "       'IntraSentence_Causality', 'Presence_Dates', 'Logic_order_temporality',\n",
       "       'Prop_temp_use', 'Logic_order_conjuguation',\n",
       "       'Intrigue_Prop_Change_Sent.1', 'Conflictual_Event.1',\n",
       "       'Conflict_two_persos.1', 'Climax_increase.1',\n",
       "       'new_Intrigue_Sentence_Homogeneity', 'new_Intrigue_Consistence',\n",
       "       'new_IntraSentence_Causality', 'new_Prop_temp_use',\n",
       "       'new_Logic_order_temporality', 'new_Intrigue_Prop_Change_Sent',\n",
       "       'new_Climax_increase', 'Neg_sentence_presence', 'score_perso',\n",
       "       'score_intrigue', 'score_conflict'],\n",
       "      dtype='object')"
      ]
     },
     "execution_count": 17,
     "metadata": {},
     "output_type": "execute_result"
    }
   ],
   "source": [
    "df_score.columns"
   ]
  },
  {
   "cell_type": "code",
   "execution_count": 18,
   "id": "27db9b7a-751f-4bed-9210-96bc7637defd",
   "metadata": {
    "tags": []
   },
   "outputs": [],
   "source": [
    "score_perso = (0.650 + 0.674 + 0.722 + 0.645 + 0.685 + 0.602 + 0.685) / 7\n",
    "score_intrigue = (0.494 + 0.259 + 0.347 + 0.462 + 1.003 + 0.944 + 0.576 + 0.676 + 0.240 + 0.384 + 0.484) / 11\n",
    "score_conflict = (0.751 + 0.819 + 0.994 + 0.521) / 4\n",
    "df_score['Storytelling_score'] = df_score['score_perso'] + df_score['score_intrigue'] + df_score['score_conflict']\n",
    "df_score['Storytelling_score_pondered'] = df_score['score_perso'].apply(lambda x: x*score_perso) + df_score['score_intrigue'].apply(lambda x: x*score_intrigue) + df_score['score_conflict'].apply(lambda x: x*score_conflict)"
   ]
  },
  {
   "cell_type": "code",
   "execution_count": 19,
   "id": "2d348831-724b-4c7a-ba4d-88aed8a5f986",
   "metadata": {
    "tags": []
   },
   "outputs": [
    {
     "data": {
      "text/plain": [
       "Index(['PostSysID', 'AccountName', 'PostDate', 'PostID', 'PostUser',\n",
       "       'PostText', 'MediaType', 'MediaLink', 'PlatformSysID', 'com_ct',\n",
       "       'Angries', 'Comments Likes', 'Engagement', 'Hahas', 'Likes', 'Loves',\n",
       "       'Replies', 'Retweets', 'Sads', 'Shares', 'Thankfuls', 'Views', 'Wows',\n",
       "       'LIWC', 'Perspective', 'VADER', 'Intrigue_Prop_Change_Sent',\n",
       "       'Conflictual_Event', 'Conflict_two_persos', 'Climax_increase',\n",
       "       'first_person_sing', 'first_person_plur', 'second_person',\n",
       "       'third_person_sing', 'third_person_plur', 'Binary_Entity',\n",
       "       'Most_common_pronoun', 'Ratio_sentences_2_persos', 'EN_sent_subj',\n",
       "       'Intrigue_Diversity', 'Intrigue_Sentence_Homogeneity',\n",
       "       'Intrigue_Consistence', 'Causal_Coherence', 'Longest_Causal_Sequence',\n",
       "       'IntraSentence_Causality', 'Presence_Dates', 'Logic_order_temporality',\n",
       "       'Prop_temp_use', 'Logic_order_conjuguation',\n",
       "       'Intrigue_Prop_Change_Sent.1', 'Conflictual_Event.1',\n",
       "       'Conflict_two_persos.1', 'Climax_increase.1',\n",
       "       'new_Intrigue_Sentence_Homogeneity', 'new_Intrigue_Consistence',\n",
       "       'new_IntraSentence_Causality', 'new_Prop_temp_use',\n",
       "       'new_Logic_order_temporality', 'new_Intrigue_Prop_Change_Sent',\n",
       "       'new_Climax_increase', 'Neg_sentence_presence', 'score_perso',\n",
       "       'score_intrigue', 'score_conflict', 'Storytelling_score',\n",
       "       'Storytelling_score_pondered'],\n",
       "      dtype='object')"
      ]
     },
     "execution_count": 19,
     "metadata": {},
     "output_type": "execute_result"
    }
   ],
   "source": [
    "df_score.columns"
   ]
  },
  {
   "cell_type": "code",
   "execution_count": 20,
   "id": "e69e9beb-2aff-4795-8803-55d6f6d365db",
   "metadata": {
    "tags": []
   },
   "outputs": [],
   "source": [
    "def scores_total(df):\n",
    "    \n",
    "    Storytelling_mean, Storytelling_std1, Storytelling_std2, Storytelling_meanindiv, Storytelling_meanindiv_std1, Storytelling_mean_pond= [], [], [], [], [], []\n",
    "    \n",
    "    list_story = list(df['Storytelling_score'])\n",
    "    list_perso = list(df['score_perso'])\n",
    "    list_intrigue = list(df['score_intrigue'])\n",
    "    list_conflict = list(df['score_conflict'])\n",
    "    list_storypond = list(df['Storytelling_score_pondered'])\n",
    "    \n",
    "    mean_story, std_story = statistics.mean(list_story), statistics.stdev(list_story)\n",
    "    mean_perso, std_perso = statistics.mean(list_perso), statistics.stdev(list_perso)\n",
    "    mean_intrigue, std_intrigue = statistics.mean(list_intrigue), statistics.stdev(list_intrigue)\n",
    "    mean_conflict, std_conflict = statistics.mean(list_conflict), statistics.stdev(list_conflict)\n",
    "    mean_pond, std_pond = statistics.mean(list_storypond), statistics.stdev(list_storypond)\n",
    "    \n",
    "    for i in tqdm(range(len(list_story))):\n",
    "        \n",
    "        if list_story[i] > mean_story:\n",
    "            Storytelling_mean.append(1)\n",
    "        else:\n",
    "            Storytelling_mean.append(0)\n",
    "            \n",
    "        if list_story[i] > mean_story + std_story :\n",
    "            Storytelling_std1.append(1)\n",
    "        else:\n",
    "            Storytelling_std1.append(0)\n",
    "            \n",
    "        if list_story[i] > mean_story + 2 * std_story :\n",
    "            Storytelling_std2.append(1)\n",
    "        else:\n",
    "            Storytelling_std2.append(0)\n",
    "            \n",
    "        if list_storypond[i] > mean_pond :\n",
    "            Storytelling_mean_pond.append(1)\n",
    "        else:\n",
    "            Storytelling_mean_pond.append(0)\n",
    "            \n",
    "        cond1, cond2, cond3, cond4, cond5, cond6 = False, False, False, False, False, False\n",
    "        if list_perso[i] > mean_perso:\n",
    "            cond1 = True\n",
    "        if list_intrigue[i] > mean_intrigue:\n",
    "            cond2 = True\n",
    "        if list_conflict[i] > mean_conflict:\n",
    "            cond3 = True\n",
    "        if list_perso[i] > mean_perso + std_perso:\n",
    "            cond4 = True\n",
    "        if list_intrigue[i] > mean_intrigue + std_intrigue:\n",
    "            cond5 = True\n",
    "        if list_conflict[i] > mean_conflict + std_conflict:\n",
    "            cond1 = True\n",
    "            \n",
    "        if cond1 and cond2 and cond3:\n",
    "            Storytelling_meanindiv.append(1)\n",
    "        else:\n",
    "            Storytelling_meanindiv.append(0)\n",
    "            \n",
    "        if cond4 and cond5 and cond6:\n",
    "            Storytelling_meanindiv_std1.append(1)\n",
    "        else:\n",
    "            Storytelling_meanindiv_std1.append(0)\n",
    "\n",
    "    df['Storytelling_mean'] = Storytelling_mean\n",
    "    df['Storytelling_std1'] = Storytelling_std1\n",
    "    df['Storytelling_std2'] = Storytelling_std2\n",
    "    df['Storytelling_meanindiv'] = Storytelling_meanindiv\n",
    "    df['Storytelling_meanindiv_std1'] = Storytelling_meanindiv_std1\n",
    "    df['Storytelling_meanindiv_pondered'] = Storytelling_mean_pond\n",
    "    \n",
    "    return df"
   ]
  },
  {
   "cell_type": "code",
   "execution_count": 21,
   "id": "3047dc73-3956-45aa-97bf-7cb03c42ddad",
   "metadata": {
    "tags": []
   },
   "outputs": [
    {
     "name": "stderr",
     "output_type": "stream",
     "text": [
      "100%|█████████████████████████████████████████████████████████████████████████| 4998/4998 [00:00<00:00, 1997059.29it/s]\n"
     ]
    }
   ],
   "source": [
    "df_score_f = scores_total(df_score)"
   ]
  },
  {
   "cell_type": "code",
   "execution_count": 22,
   "id": "731dab34-d105-4a6b-a504-3f7022cd0e5c",
   "metadata": {
    "tags": []
   },
   "outputs": [
    {
     "data": {
      "text/plain": [
       "Index(['PostSysID', 'AccountName', 'PostDate', 'PostID', 'PostUser',\n",
       "       'PostText', 'MediaType', 'MediaLink', 'PlatformSysID', 'com_ct',\n",
       "       'Angries', 'Comments Likes', 'Engagement', 'Hahas', 'Likes', 'Loves',\n",
       "       'Replies', 'Retweets', 'Sads', 'Shares', 'Thankfuls', 'Views', 'Wows',\n",
       "       'LIWC', 'Perspective', 'VADER', 'Intrigue_Prop_Change_Sent',\n",
       "       'Conflictual_Event', 'Conflict_two_persos', 'Climax_increase',\n",
       "       'first_person_sing', 'first_person_plur', 'second_person',\n",
       "       'third_person_sing', 'third_person_plur', 'Binary_Entity',\n",
       "       'Most_common_pronoun', 'Ratio_sentences_2_persos', 'EN_sent_subj',\n",
       "       'Intrigue_Diversity', 'Intrigue_Sentence_Homogeneity',\n",
       "       'Intrigue_Consistence', 'Causal_Coherence', 'Longest_Causal_Sequence',\n",
       "       'IntraSentence_Causality', 'Presence_Dates', 'Logic_order_temporality',\n",
       "       'Prop_temp_use', 'Logic_order_conjuguation',\n",
       "       'Intrigue_Prop_Change_Sent.1', 'Conflictual_Event.1',\n",
       "       'Conflict_two_persos.1', 'Climax_increase.1',\n",
       "       'new_Intrigue_Sentence_Homogeneity', 'new_Intrigue_Consistence',\n",
       "       'new_IntraSentence_Causality', 'new_Prop_temp_use',\n",
       "       'new_Logic_order_temporality', 'new_Intrigue_Prop_Change_Sent',\n",
       "       'new_Climax_increase', 'Neg_sentence_presence', 'score_perso',\n",
       "       'score_intrigue', 'score_conflict', 'Storytelling_score',\n",
       "       'Storytelling_score_pondered', 'Storytelling_mean', 'Storytelling_std1',\n",
       "       'Storytelling_std2', 'Storytelling_meanindiv',\n",
       "       'Storytelling_meanindiv_std1', 'Storytelling_meanindiv_pondered'],\n",
       "      dtype='object')"
      ]
     },
     "execution_count": 22,
     "metadata": {},
     "output_type": "execute_result"
    }
   ],
   "source": [
    "df_score_f.columns"
   ]
  },
  {
   "cell_type": "code",
   "execution_count": 23,
   "id": "95845e82-bcd9-4235-9ab8-923e419223ea",
   "metadata": {
    "tags": []
   },
   "outputs": [],
   "source": [
    "df_score.to_csv('202403_Valid_Storytelling_VariablesAndScores_vFinal.csv', index=False)"
   ]
  },
  {
   "cell_type": "markdown",
   "id": "efe3c735-e065-42dd-b487-2c296294967e",
   "metadata": {},
   "source": [
    "# Parasocial"
   ]
  },
  {
   "cell_type": "code",
   "execution_count": 1,
   "id": "9cf97b1d-7231-41e9-8fae-0b30366b885a",
   "metadata": {
    "tags": []
   },
   "outputs": [],
   "source": [
    "import pandas as pd\n",
    "import os\n",
    "import spacy \n",
    "nlp = spacy.load(\"en_core_web_sm\")\n",
    "from tqdm import tqdm\n",
    "from collections import defaultdict\n",
    "import statistics\n",
    "import numpy as np"
   ]
  },
  {
   "cell_type": "code",
   "execution_count": 15,
   "id": "4ba0b356-e99b-4c92-ada3-ea1482ed5bd8",
   "metadata": {
    "tags": []
   },
   "outputs": [],
   "source": [
    "#df_para = pd.read_csv('data/202403_Valid_Parasocial_withVariable_VF.csv')\n",
    "df_para = pd.read_csv('data/202403_Test_Parasocial_withVariable_VF.csv')"
   ]
  },
  {
   "cell_type": "markdown",
   "id": "d559e203-d271-4d32-801e-8b74dde8b977",
   "metadata": {},
   "source": [
    "## Score Cognitive"
   ]
  },
  {
   "cell_type": "code",
   "execution_count": 3,
   "id": "99d73a81-9c75-4c67-870d-bbbbb57aaad6",
   "metadata": {
    "tags": []
   },
   "outputs": [],
   "source": [
    "def score_attention(df):\n",
    "\n",
    "    scores = []\n",
    "    list_vb_avg_min = list(df['vb_avg_min'])\n",
    "    list_vb_avg_avg = list(df['vb_avg_avg'])\n",
    "    list_imply = list(df['avg_post_imply'])\n",
    "    #list_engage_rate = list(df['engage_rate'])   # Normalizing by number of comments for each posts\n",
    "    list_engage_rate = list(df['new_engage_rate'])\n",
    "    list_post = list(df['nb_comments'])\n",
    "    \n",
    "    for i in tqdm(range(len(list_vb_avg_min))):\n",
    "        score = list_vb_avg_min[i] + list_vb_avg_avg[i] + list_imply[i] + (list_engage_rate[i] / list_post[i])\n",
    "        score = score / 4\n",
    "        scores.append(score)\n",
    "    \n",
    "    df['score_attention'] = scores\n",
    "    return df"
   ]
  },
  {
   "cell_type": "code",
   "execution_count": 4,
   "id": "cbdbc8d6-5303-453a-afba-27dbbe9f6009",
   "metadata": {
    "tags": []
   },
   "outputs": [],
   "source": [
    "def score_comprehension(df):\n",
    "\n",
    "    scores = []\n",
    "    list_similarity = list(df['semantic_similarity'])\n",
    "    list_predicted = list(df['comment_predicted'])\n",
    "    list_repeat = list(df['new_avg_repeat'])\n",
    "    \n",
    "    for i in tqdm(range(len(list_similarity))):\n",
    "        score = (list_similarity[i] + list_predicted[i] + list_repeat[i]) / 3\n",
    "        scores.append(score)\n",
    "    \n",
    "    df['score_comprehension'] = scores\n",
    "    return df"
   ]
  },
  {
   "cell_type": "code",
   "execution_count": 5,
   "id": "944a4409-ff81-42ca-a808-5585ca8179f8",
   "metadata": {
    "tags": []
   },
   "outputs": [],
   "source": [
    "def score_prior(df):\n",
    "\n",
    "    scores = []\n",
    "    list_past = list(df['past_exp'])\n",
    "    list_compare = list(df['comparison'])\n",
    "    list_implied = list(df['new_comments_implied'])\n",
    "    \n",
    "    for i in tqdm(range(len(list_past))):\n",
    "        score = (list_past[i] + list_compare[i] + list_implied[i]) / 3\n",
    "        scores.append(score)\n",
    "    \n",
    "    df['score_prior'] = scores\n",
    "    return df"
   ]
  },
  {
   "cell_type": "code",
   "execution_count": 6,
   "id": "ce2fd72d-f764-4283-b2da-28d2fb91a55f",
   "metadata": {
    "tags": []
   },
   "outputs": [],
   "source": [
    "def score_evaluation(df):\n",
    "\n",
    "    scores = []\n",
    "    list_weak = list(df['weak_subj'])\n",
    "    list_strong = list(df['strong_subj'])\n",
    "    list_neutral = list(df['neutral'])  ### 1- neutrality since we seek for non neutrality\n",
    "    list_objective = list(df['objectivity'])  ### 1- objectivity since we seek for non objectivity\n",
    "    \n",
    "    for i in tqdm(range(len(list_weak))):\n",
    "        score = (list_weak[i] + list_strong[i] + (1-list_neutral[i]) + (1-list_objective[i])) / 4\n",
    "        scores.append(score)\n",
    "    \n",
    "    df['score_evaluation'] = scores\n",
    "    return df"
   ]
  },
  {
   "cell_type": "code",
   "execution_count": 7,
   "id": "a652e04b-db27-4c19-9856-a817505cf6df",
   "metadata": {
    "tags": []
   },
   "outputs": [],
   "source": [
    "def score_anticipatory(df):\n",
    "\n",
    "    scores = []\n",
    "    list_evol = list(df['brand_evolution'])\n",
    "    list_condi = list(df['brand_conditional'])\n",
    "    \n",
    "    for i in tqdm(range(len(list_evol))):\n",
    "        score = (list_evol[i] + list_condi[i]) / 2\n",
    "        scores.append(score)\n",
    "    \n",
    "    df['score_anticipatory'] = scores\n",
    "    return df"
   ]
  },
  {
   "cell_type": "code",
   "execution_count": 8,
   "id": "8d3971cc-7545-472c-b385-d2964097deff",
   "metadata": {
    "tags": []
   },
   "outputs": [],
   "source": [
    "def score_relation(df):\n",
    "\n",
    "    scores = []\n",
    "    list_proj = list(df['contextual_projection'])\n",
    "    list_obsess = list(df['obsession'])\n",
    "    list_action = list(df['link_my_action'])\n",
    "    list_mention = list(df['direct_mention'])\n",
    "    \n",
    "    for i in tqdm(range(len(list_proj))):\n",
    "        score = list_proj[i] + list_obsess[i] + list_action[i] + list_mention[i]\n",
    "        score = score / 4\n",
    "        scores.append(score)\n",
    "    \n",
    "    df['score_relation'] = scores\n",
    "    return df"
   ]
  },
  {
   "cell_type": "markdown",
   "id": "c4811d24-0ecb-49e5-84eb-85a71e6c3489",
   "metadata": {},
   "source": [
    "## Score affective"
   ]
  },
  {
   "cell_type": "code",
   "execution_count": 9,
   "id": "d91fcb33-2e18-444e-88b2-892096feb1b4",
   "metadata": {
    "tags": []
   },
   "outputs": [],
   "source": [
    "def score_affective(df):\n",
    "    \n",
    "    list_sent = list(df['sentiment'])\n",
    "    list_intens = list(df['intensity'])\n",
    "    list_empat = list(df['empathy'])\n",
    "    list_same = list(df['same_intensity'])\n",
    "    list_conta = list(df['sentiment_contagion']) ### If condition for -1 0 or 1 here -- si -1 = 0 dans le score | si 0 = 0.5 | si 1 = 1\n",
    "    list_repeat = list(df['nb_letter_repeat'])  ### Normalize by max value == 2.5\n",
    "    norm_repeat = max(list_repeat)\n",
    "    list_upper = list(df['nb_uppercase'])\n",
    "    \n",
    "    scores, scores_sympathy, scores_empathy, scores_contagion = [], [], [] , []\n",
    "    for i in tqdm(range(len(list_sent))):\n",
    "        ##Condition for sentiment_contagion:\n",
    "        score_conta = 0\n",
    "        if list_conta[i] == 0:\n",
    "            score_conta = 0.5\n",
    "        elif list_conta[i] == 1:\n",
    "            score_conta = 1\n",
    "            \n",
    "        score_sympathy = (list_sent[i] + list_intens[i]) / 2\n",
    "        scores_sympathy.append(score_sympathy)\n",
    "        score_empathy = (list_empat[i] + list_same[i]) / 2\n",
    "        scores_empathy.append(score_empathy)\n",
    "        score_contagion = (score_conta + list_repeat[i]/norm_repeat + list_upper[i])/3\n",
    "        scores_contagion.append(score_contagion)\n",
    "        score = (score_sympathy + score_empathy + score_contagion)  / 3\n",
    "        scores.append(score)\n",
    "        \n",
    "    df['score_sympathy'] = scores_sympathy\n",
    "    df['score_empathy'] = scores_empathy\n",
    "    df['score_contagion'] = scores_contagion\n",
    "    df['score_affective'] = scores\n",
    "    \n",
    "    return df"
   ]
  },
  {
   "cell_type": "markdown",
   "id": "1638ae56-db3c-4fc2-94b0-7f78bd13a0cf",
   "metadata": {},
   "source": [
    "## Score behavior"
   ]
  },
  {
   "cell_type": "code",
   "execution_count": 10,
   "id": "315aed8a-c4c5-48b4-98c5-6007cbb7000f",
   "metadata": {
    "tags": []
   },
   "outputs": [],
   "source": [
    "def score_behav(df):\n",
    "    \n",
    "    \n",
    "    list_likes = list(df['Likes'])\n",
    "    list_comments = list(df['nb_comments'])\n",
    "    \n",
    "    ##creating normalized score for comments here : \n",
    "    comment_likes = []\n",
    "    for i in range(len(list_likes)):\n",
    "        comment_likes.append(list_comments[i] / list_likes[i])\n",
    "    \n",
    "    norm_comm = max(comment_likes)                        #Normalizing by max value\n",
    "    list_emojis = list(df['emojis'])                      #Normalizing by max value\n",
    "    norm_emo = max(list_emojis)\n",
    "    \n",
    "    list_nbemojis = list(df['new_nb_comments_emojis'])\n",
    "    list_write = list(df['new_time_to_write'])\n",
    "    list_mistakes = list(df['nb_mistakes'])               #Normalizing by max value\n",
    "    norm_mistakes = max(list_mistakes) \n",
    "    list_slangs = list(df['nb_slangs'])\n",
    "    list_answers = list(df['nb_answers'])\n",
    "    list_intent = list(df['intent'])\n",
    "    \n",
    "    scores, scores_nonverbal, scores_paraverbal, scores_intentions = [], [], [], []\n",
    "    for i in tqdm(range(len(comment_likes))):\n",
    "        \n",
    "        score_nonverbal = ((comment_likes[i]/norm_comm) + (list_emojis[i]/norm_emo) + list_nbemojis[i]) / 3\n",
    "        scores_nonverbal.append(score_nonverbal)\n",
    "        score_paraverbal = (list_write[i] + (list_mistakes[i]/norm_mistakes) + list_slangs[i]) / 3\n",
    "        scores_paraverbal.append(score_paraverbal)\n",
    "        score_intentions = (list_answers[i] + list_intent[i]) / 2\n",
    "        scores_intentions.append(score_intentions)\n",
    "        \n",
    "        score = (score_nonverbal + score_paraverbal + score_intentions)/3\n",
    "        scores.append(score)\n",
    "        \n",
    "    df['score_nonverbal'] = scores_nonverbal\n",
    "    df['score_paraverbal'] = scores_paraverbal\n",
    "    df['score_intentions'] = scores_intentions\n",
    "    df['score_behavioral'] = scores\n",
    "    \n",
    "    return df"
   ]
  },
  {
   "cell_type": "markdown",
   "id": "c9b7645f-da57-4df7-a061-d5b0945d0334",
   "metadata": {},
   "source": [
    "## Score finals"
   ]
  },
  {
   "cell_type": "code",
   "execution_count": 11,
   "id": "f6e6f739-a619-4cb7-a1b5-02802d15fdcc",
   "metadata": {
    "tags": []
   },
   "outputs": [
    {
     "name": "stderr",
     "output_type": "stream",
     "text": [
      "100%|█████████████████████████████████████████████████████████████████████████| 5000/5000 [00:00<00:00, 4996788.18it/s]\n",
      "100%|█████████████████████████████████████████████████████████████████████████| 5000/5000 [00:00<00:00, 4987281.81it/s]\n",
      "100%|█████████████████████████████████████████████████████████████████████████| 5000/5000 [00:00<00:00, 4999170.44it/s]\n",
      "100%|█████████████████████████████████████████████████████████████████████████| 5000/5000 [00:00<00:00, 5001554.97it/s]\n",
      "100%|█████████████████████████████████████████████████████████████████████████| 5000/5000 [00:00<00:00, 5002748.09it/s]\n",
      "100%|██████████████████████████████████████████████████████████████████████████████████████| 5000/5000 [00:00<?, ?it/s]\n"
     ]
    }
   ],
   "source": [
    "df_score = score_attention(df_para)\n",
    "df_score = score_comprehension(df_score)\n",
    "df_score = score_prior(df_score)\n",
    "df_score = score_evaluation(df_score)\n",
    "df_score = score_anticipatory(df_score)\n",
    "df_score = score_relation(df_score)"
   ]
  },
  {
   "cell_type": "code",
   "execution_count": 13,
   "id": "f0f63579-aa6e-49eb-b15e-b4c81b835860",
   "metadata": {
    "tags": []
   },
   "outputs": [],
   "source": [
    "score_cognitive = [(list(df_score['score_attention'])[i] + list(df_score['score_prior'])[i] + list(df_score['score_comprehension'])[i] + \n",
    "                   list(df_score['score_evaluation'])[i] + list(df_score['score_anticipatory'])[i] + list(df_score['score_relation'])[i])/6 for i in range(len(list(df_score['score_attention'])))]\n",
    "df_score['score_cognitive'] = score_cognitive"
   ]
  },
  {
   "cell_type": "code",
   "execution_count": null,
   "id": "ded99b5a-0708-4593-8802-a68bc46bc90b",
   "metadata": {
    "tags": []
   },
   "outputs": [],
   "source": [
    "df_score = score_affective(df_score)\n",
    "df_score = score_behav(df_score)"
   ]
  },
  {
   "cell_type": "code",
   "execution_count": 15,
   "id": "1ff7f327-9afd-4236-9ac1-f4faea7f914c",
   "metadata": {
    "tags": []
   },
   "outputs": [],
   "source": [
    "df_score['Parasocial_score'] = df_score['score_cognitive'] + df_score['score_affective'] + df_score['score_behavioral']"
   ]
  },
  {
   "cell_type": "code",
   "execution_count": 16,
   "id": "fb6567bd-0fc4-49a4-9358-cb48d5b2336e",
   "metadata": {
    "tags": []
   },
   "outputs": [],
   "source": [
    "def scores_total(df):\n",
    "    \n",
    "    Para_mean, Para_std1, Para_std2, Para_meanindiv, Para_full_indiv= [], [], [], [], []\n",
    "    #Cognitive\n",
    "    list_att = list(df['score_attention'])\n",
    "    mean_att = statistics.mean(list_att)\n",
    "    list_prior = list(df['score_prior'])\n",
    "    mean_prior = statistics.mean(list_prior)\n",
    "    list_comp = list(df['score_comprehension'])\n",
    "    mean_comp = statistics.mean(list_comp)\n",
    "    list_eval = list(df['score_evaluation'])\n",
    "    mean_eval = statistics.mean(list_eval)\n",
    "    list_antic = list(df['score_anticipatory'])\n",
    "    mean_antic = statistics.mean(list_antic)\n",
    "    list_rel = list(df['score_relation'])\n",
    "    mean_rel = statistics.mean(list_rel)\n",
    "    list_cog = list(df_score['score_cognitive'])\n",
    "    mean_cog = statistics.mean(list_cog)\n",
    "    \n",
    "    #Affect\n",
    "    list_symp = list(df['score_sympathy'])\n",
    "    mean_symp = statistics.mean(list_symp)\n",
    "    list_emp = list(df['score_empathy'])\n",
    "    mean_emp = statistics.mean(list_emp)\n",
    "    list_conta = list(df['score_contagion'])\n",
    "    mean_conta = statistics.mean(list_conta)\n",
    "    list_affect = list(df['score_affective'])\n",
    "    mean_affect = statistics.mean(list_affect)\n",
    "    #Behavior\n",
    "    list_nonver = list(df['score_nonverbal'])\n",
    "    mean_nonver = statistics.mean(list_nonver)\n",
    "    list_para = list(df['score_paraverbal'])\n",
    "    mean_para = statistics.mean(list_para)\n",
    "    list_intent = list(df['score_intentions'])\n",
    "    mean_intent = statistics.mean(list_intent)\n",
    "    list_behav = list(df['score_behavioral'])\n",
    "    mean_behav = statistics.mean(list_behav)\n",
    "    #Total\n",
    "    list_parasocial = list(df['Parasocial_score'])\n",
    "    mean_parasocial, std_parasocial = statistics.mean(list_parasocial), statistics.stdev(list_parasocial)\n",
    "    \n",
    "    \n",
    "    for i in tqdm(range(len(list_parasocial))):\n",
    "        #Creating the parascore if the aggregated is superior to the mean\n",
    "        if list_parasocial[i] > mean_parasocial:\n",
    "            Para_mean.append(1)\n",
    "        else:\n",
    "            Para_mean.append(0)\n",
    "            \n",
    "         #Creating the parascore if the aggregated is superior to the mean + 1 std deviation\n",
    "        if list_parasocial[i] > mean_parasocial + std_parasocial :\n",
    "            Para_std1.append(1)\n",
    "        else:\n",
    "            Para_std1.append(0)\n",
    "            \n",
    "         #Creating the parascore if the aggregated is superior to the mean + 2 std deviation\n",
    "        if list_parasocial[i] > mean_parasocial + 2 * std_parasocial :\n",
    "            Para_std2.append(1)\n",
    "        else:\n",
    "            Para_std2.append(0)\n",
    "            \n",
    "        #Creating the score if all variables are above their mean\n",
    "        cond1_, cond2_, cond3_ = False, False, False\n",
    "        if list_cog[i] > mean_cog:\n",
    "            cond1_ = True\n",
    "        if list_affect[i] > mean_affect:\n",
    "            cond2_ = True\n",
    "        if list_behav[i] > mean_behav:\n",
    "            cond3_ = True\n",
    "            \n",
    "        if cond1_ and cond2_ and cond3_:\n",
    "            Para_meanindiv.append(1)\n",
    "        else:\n",
    "            Para_meanindiv.append(0)\n",
    "            \n",
    "        cond1, cond2, cond3, cond4, cond5, cond6 = False, False, False, False, False, False\n",
    "        cond7, cond8, cond9, cond10, cond11, cond12 = False, False, False, False, False, False\n",
    "        if list_att[i] > mean_att:\n",
    "            cond1 = True\n",
    "        if list_prior[i] > mean_prior:\n",
    "            cond2 = True\n",
    "        if list_comp[i] > mean_comp:\n",
    "            cond3 = True\n",
    "        if list_eval[i] > mean_eval:\n",
    "            cond4 = True\n",
    "        if list_antic[i] > mean_antic:\n",
    "            cond5 = True\n",
    "        if list_rel[i] > mean_rel:\n",
    "            cond6 = True\n",
    "        if list_symp[i] > mean_symp:\n",
    "            cond7 = True\n",
    "        if list_emp[i] > mean_emp:\n",
    "            cond8 = True\n",
    "        if list_conta[i] > mean_conta:\n",
    "            cond9 = True\n",
    "        if list_nonver[i] > mean_nonver:\n",
    "            cond10 = True\n",
    "        if list_intent[i] > mean_intent:\n",
    "            cond11 = True\n",
    "        if list_para[i] > mean_para:\n",
    "            cond12 = True\n",
    "\n",
    "        if cond1 and cond2 and cond3 and cond4 and cond5 and cond6 and cond7 and cond8 and cond9 and cond10 and cond11 and cond12:\n",
    "            Para_full_indiv.append(1)\n",
    "        else:\n",
    "            Para_full_indiv.append(0)\n",
    "            \n",
    "    df['Parasocial_mean'] = Para_mean\n",
    "    df['Parasocial_std1'] = Para_std1\n",
    "    df['Parasocial_std2'] = Para_std2\n",
    "    df['Parasocial_meanindiv'] = Para_meanindiv\n",
    "    df['Parasocial_fullindiv'] = Para_full_indiv\n",
    "    \n",
    "    return df"
   ]
  },
  {
   "cell_type": "code",
   "execution_count": 17,
   "id": "d1751d67-f9e0-433a-a4bb-110b3bd6dd67",
   "metadata": {
    "tags": []
   },
   "outputs": [
    {
     "name": "stderr",
     "output_type": "stream",
     "text": [
      "100%|█████████████████████████████████████████████████████████████████████████| 5000/5000 [00:00<00:00, 1248676.39it/s]\n"
     ]
    }
   ],
   "source": [
    "df_score_f = scores_total(df_score)"
   ]
  },
  {
   "cell_type": "code",
   "execution_count": 18,
   "id": "ce9080c1-17c6-41f0-b8e2-794ae481827e",
   "metadata": {
    "tags": []
   },
   "outputs": [
    {
     "data": {
      "text/plain": [
       "Index(['PostSysID', 'AccountName', 'PostDate', 'PostID', 'PostUser',\n",
       "       'PostText', 'MediaType', 'MediaLink', 'PlatformSysID', 'com_ct',\n",
       "       'Angries', 'Comments Likes', 'Engagement', 'Hahas', 'Likes', 'Loves',\n",
       "       'Replies', 'Retweets', 'Sads', 'Shares', 'Thankfuls', 'Views', 'Wows',\n",
       "       'LIWC', 'Perspective', 'VADER', 'vb_avg_min', 'vb_avg_avg',\n",
       "       'avg_previous', 'avg_post_imply', 'semantic_similarity',\n",
       "       'comment_predicted', 'past_exp', 'impliedsituation', 'comparison',\n",
       "       'weak_subj', 'strong_subj', 'brand_evolution', 'brand_conditional',\n",
       "       'contextual_projection', 'obsession', 'link_my_action',\n",
       "       'direct_mention', 'sentiment', 'intensity', 'empathy', 'same_intensity',\n",
       "       'sentiment_contagion', 'nb_letter_repeat', 'nb_uppercase',\n",
       "       'nb_comments', 'nb_slangs', 'nb_mistakes', 'time_to_write',\n",
       "       'nb_answers', 'intent', 'emojis', 'nb_comments_emojis', 'neutral',\n",
       "       'objectivity', 'avg_repeat', 'new_nb_comments_emojis',\n",
       "       'new_engage_rate', 'new_comments_implied', 'new_avg_repeat',\n",
       "       'new_time_to_write', 'score_attention', 'score_comprehension',\n",
       "       'score_prior', 'score_evaluation', 'score_anticipatory',\n",
       "       'score_relation', 'score_cognitive', 'score_sympathy', 'score_empathy',\n",
       "       'score_contagion', 'score_affective', 'score_nonverbal',\n",
       "       'score_paraverbal', 'score_intentions', 'score_behavioral',\n",
       "       'Parasocial_score', 'Parasocial_mean', 'Parasocial_std1',\n",
       "       'Parasocial_std2', 'Parasocial_meanindiv', 'Parasocial_fullindiv'],\n",
       "      dtype='object')"
      ]
     },
     "execution_count": 18,
     "metadata": {},
     "output_type": "execute_result"
    }
   ],
   "source": [
    "df_score_f.columns"
   ]
  },
  {
   "cell_type": "code",
   "execution_count": 19,
   "id": "ad2c82f1-34e3-4541-bbef-ab47d2e57cd5",
   "metadata": {
    "tags": []
   },
   "outputs": [
    {
     "data": {
      "text/html": [
       "<div>\n",
       "<style scoped>\n",
       "    .dataframe tbody tr th:only-of-type {\n",
       "        vertical-align: middle;\n",
       "    }\n",
       "\n",
       "    .dataframe tbody tr th {\n",
       "        vertical-align: top;\n",
       "    }\n",
       "\n",
       "    .dataframe thead th {\n",
       "        text-align: right;\n",
       "    }\n",
       "</style>\n",
       "<table border=\"1\" class=\"dataframe\">\n",
       "  <thead>\n",
       "    <tr style=\"text-align: right;\">\n",
       "      <th></th>\n",
       "      <th>PostSysID</th>\n",
       "      <th>AccountName</th>\n",
       "      <th>PostDate</th>\n",
       "      <th>PostID</th>\n",
       "      <th>PostUser</th>\n",
       "      <th>PostText</th>\n",
       "      <th>MediaType</th>\n",
       "      <th>MediaLink</th>\n",
       "      <th>PlatformSysID</th>\n",
       "      <th>com_ct</th>\n",
       "      <th>...</th>\n",
       "      <th>score_nonverbal</th>\n",
       "      <th>score_paraverbal</th>\n",
       "      <th>score_intentions</th>\n",
       "      <th>score_behavioral</th>\n",
       "      <th>Parasocial_score</th>\n",
       "      <th>Parasocial_mean</th>\n",
       "      <th>Parasocial_std1</th>\n",
       "      <th>Parasocial_std2</th>\n",
       "      <th>Parasocial_meanindiv</th>\n",
       "      <th>Parasocial_fullindiv</th>\n",
       "    </tr>\n",
       "  </thead>\n",
       "  <tbody>\n",
       "    <tr>\n",
       "      <th>0</th>\n",
       "      <td>15230642</td>\n",
       "      <td>Machine Gun Kelly</td>\n",
       "      <td>2016-09-28</td>\n",
       "      <td>https://www.instagram.com/p/BK6jXBBBt0s/?taken...</td>\n",
       "      <td>machinegunkelly</td>\n",
       "      <td>day 1. see you tomorrow Spokane. #AlphaOmegaTour</td>\n",
       "      <td>video/mp4</td>\n",
       "      <td>https://instagram.fyhu1-1.fna.fbcdn.net/vp/392...</td>\n",
       "      <td>3</td>\n",
       "      <td>337.0</td>\n",
       "      <td>...</td>\n",
       "      <td>0.053523</td>\n",
       "      <td>0.054667</td>\n",
       "      <td>0.048077</td>\n",
       "      <td>0.091463</td>\n",
       "      <td>0.613075</td>\n",
       "      <td>0</td>\n",
       "      <td>0</td>\n",
       "      <td>0</td>\n",
       "      <td>0</td>\n",
       "      <td>0</td>\n",
       "    </tr>\n",
       "    <tr>\n",
       "      <th>1</th>\n",
       "      <td>9930130</td>\n",
       "      <td>Russ</td>\n",
       "      <td>2017-09-09</td>\n",
       "      <td>https://www.instagram.com/p/BY1oGG8hmHM/?taken...</td>\n",
       "      <td>russ</td>\n",
       "      <td>Performed at the Kith fashion show the other n...</td>\n",
       "      <td>image</td>\n",
       "      <td>https://instagram.fyhu1-1.fna.fbcdn.net/vp/4a9...</td>\n",
       "      <td>3</td>\n",
       "      <td>1688.0</td>\n",
       "      <td>...</td>\n",
       "      <td>0.053523</td>\n",
       "      <td>0.054667</td>\n",
       "      <td>0.048077</td>\n",
       "      <td>0.093396</td>\n",
       "      <td>0.712455</td>\n",
       "      <td>1</td>\n",
       "      <td>0</td>\n",
       "      <td>0</td>\n",
       "      <td>0</td>\n",
       "      <td>0</td>\n",
       "    </tr>\n",
       "    <tr>\n",
       "      <th>2</th>\n",
       "      <td>17030309</td>\n",
       "      <td>Don Diablo</td>\n",
       "      <td>2017-06-03</td>\n",
       "      <td>https://www.instagram.com/p/BU5IRcWBVj1/?taken...</td>\n",
       "      <td>dondiablo</td>\n",
       "      <td>The Flying Dutch! One day three shows. This wa...</td>\n",
       "      <td>image</td>\n",
       "      <td>https://instagram.fyhu1-1.fna.fbcdn.net/vp/c04...</td>\n",
       "      <td>3</td>\n",
       "      <td>110.0</td>\n",
       "      <td>...</td>\n",
       "      <td>0.053523</td>\n",
       "      <td>0.054667</td>\n",
       "      <td>0.048077</td>\n",
       "      <td>0.097340</td>\n",
       "      <td>0.790759</td>\n",
       "      <td>1</td>\n",
       "      <td>1</td>\n",
       "      <td>0</td>\n",
       "      <td>1</td>\n",
       "      <td>0</td>\n",
       "    </tr>\n",
       "    <tr>\n",
       "      <th>3</th>\n",
       "      <td>15230614</td>\n",
       "      <td>Machine Gun Kelly</td>\n",
       "      <td>2016-10-09</td>\n",
       "      <td>https://www.instagram.com/p/BLW8UTnh7gr/?taken...</td>\n",
       "      <td>machinegunkelly</td>\n",
       "      <td>happy 4th anniversary to our first album.</td>\n",
       "      <td>image</td>\n",
       "      <td>https://instagram.fyhu1-1.fna.fbcdn.net/vp/1c9...</td>\n",
       "      <td>3</td>\n",
       "      <td>758.0</td>\n",
       "      <td>...</td>\n",
       "      <td>0.053523</td>\n",
       "      <td>0.054667</td>\n",
       "      <td>0.048077</td>\n",
       "      <td>0.065848</td>\n",
       "      <td>0.699464</td>\n",
       "      <td>1</td>\n",
       "      <td>0</td>\n",
       "      <td>0</td>\n",
       "      <td>0</td>\n",
       "      <td>0</td>\n",
       "    </tr>\n",
       "    <tr>\n",
       "      <th>4</th>\n",
       "      <td>15230458</td>\n",
       "      <td>Machine Gun Kelly</td>\n",
       "      <td>2016-12-09</td>\n",
       "      <td>https://www.instagram.com/p/BNzghDPhF9p/?taken...</td>\n",
       "      <td>machinegunkelly</td>\n",
       "      <td>smells like teen spirit in NYC today 😈</td>\n",
       "      <td>image</td>\n",
       "      <td>https://instagram.fyhu1-1.fna.fbcdn.net/vp/86e...</td>\n",
       "      <td>3</td>\n",
       "      <td>314.0</td>\n",
       "      <td>...</td>\n",
       "      <td>0.053523</td>\n",
       "      <td>0.054667</td>\n",
       "      <td>0.048077</td>\n",
       "      <td>0.094335</td>\n",
       "      <td>0.657101</td>\n",
       "      <td>1</td>\n",
       "      <td>0</td>\n",
       "      <td>0</td>\n",
       "      <td>0</td>\n",
       "      <td>0</td>\n",
       "    </tr>\n",
       "  </tbody>\n",
       "</table>\n",
       "<p>5 rows × 87 columns</p>\n",
       "</div>"
      ],
      "text/plain": [
       "   PostSysID        AccountName    PostDate  \\\n",
       "0   15230642  Machine Gun Kelly  2016-09-28   \n",
       "1    9930130               Russ  2017-09-09   \n",
       "2   17030309         Don Diablo  2017-06-03   \n",
       "3   15230614  Machine Gun Kelly  2016-10-09   \n",
       "4   15230458  Machine Gun Kelly  2016-12-09   \n",
       "\n",
       "                                              PostID         PostUser  \\\n",
       "0  https://www.instagram.com/p/BK6jXBBBt0s/?taken...  machinegunkelly   \n",
       "1  https://www.instagram.com/p/BY1oGG8hmHM/?taken...             russ   \n",
       "2  https://www.instagram.com/p/BU5IRcWBVj1/?taken...        dondiablo   \n",
       "3  https://www.instagram.com/p/BLW8UTnh7gr/?taken...  machinegunkelly   \n",
       "4  https://www.instagram.com/p/BNzghDPhF9p/?taken...  machinegunkelly   \n",
       "\n",
       "                                            PostText  MediaType  \\\n",
       "0   day 1. see you tomorrow Spokane. #AlphaOmegaTour  video/mp4   \n",
       "1  Performed at the Kith fashion show the other n...      image   \n",
       "2  The Flying Dutch! One day three shows. This wa...      image   \n",
       "3          happy 4th anniversary to our first album.      image   \n",
       "4             smells like teen spirit in NYC today 😈      image   \n",
       "\n",
       "                                           MediaLink  PlatformSysID  com_ct  \\\n",
       "0  https://instagram.fyhu1-1.fna.fbcdn.net/vp/392...              3   337.0   \n",
       "1  https://instagram.fyhu1-1.fna.fbcdn.net/vp/4a9...              3  1688.0   \n",
       "2  https://instagram.fyhu1-1.fna.fbcdn.net/vp/c04...              3   110.0   \n",
       "3  https://instagram.fyhu1-1.fna.fbcdn.net/vp/1c9...              3   758.0   \n",
       "4  https://instagram.fyhu1-1.fna.fbcdn.net/vp/86e...              3   314.0   \n",
       "\n",
       "   ...  score_nonverbal  score_paraverbal  score_intentions  score_behavioral  \\\n",
       "0  ...         0.053523          0.054667          0.048077          0.091463   \n",
       "1  ...         0.053523          0.054667          0.048077          0.093396   \n",
       "2  ...         0.053523          0.054667          0.048077          0.097340   \n",
       "3  ...         0.053523          0.054667          0.048077          0.065848   \n",
       "4  ...         0.053523          0.054667          0.048077          0.094335   \n",
       "\n",
       "   Parasocial_score  Parasocial_mean  Parasocial_std1  Parasocial_std2  \\\n",
       "0          0.613075                0                0                0   \n",
       "1          0.712455                1                0                0   \n",
       "2          0.790759                1                1                0   \n",
       "3          0.699464                1                0                0   \n",
       "4          0.657101                1                0                0   \n",
       "\n",
       "   Parasocial_meanindiv  Parasocial_fullindiv  \n",
       "0                     0                     0  \n",
       "1                     0                     0  \n",
       "2                     1                     0  \n",
       "3                     0                     0  \n",
       "4                     0                     0  \n",
       "\n",
       "[5 rows x 87 columns]"
      ]
     },
     "execution_count": 19,
     "metadata": {},
     "output_type": "execute_result"
    }
   ],
   "source": [
    "df_score_f.head()"
   ]
  },
  {
   "cell_type": "code",
   "execution_count": 20,
   "id": "ea93973b-3f60-45f5-8368-eaff1fdc245e",
   "metadata": {
    "tags": []
   },
   "outputs": [],
   "source": [
    "df_score.to_csv('202403_Valid_Parasocial_VariablesAndScores_vFinal.csv', index=False)"
   ]
  },
  {
   "cell_type": "code",
   "execution_count": null,
   "id": "301d3468-77a6-4727-8a08-4ec7f23042a4",
   "metadata": {},
   "outputs": [],
   "source": []
  }
 ],
 "metadata": {
  "kernelspec": {
   "display_name": "Python 3 (ipykernel)",
   "language": "python",
   "name": "python3"
  },
  "language_info": {
   "codemirror_mode": {
    "name": "ipython",
    "version": 3
   },
   "file_extension": ".py",
   "mimetype": "text/x-python",
   "name": "python",
   "nbconvert_exporter": "python",
   "pygments_lexer": "ipython3",
   "version": "3.12.3"
  }
 },
 "nbformat": 4,
 "nbformat_minor": 5
}
