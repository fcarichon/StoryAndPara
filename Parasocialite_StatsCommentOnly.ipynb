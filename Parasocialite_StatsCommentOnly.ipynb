{
 "cells": [
  {
   "cell_type": "markdown",
   "id": "4c2ed12d-4fc5-4ea0-a6b0-72d9ce1b6910",
   "metadata": {},
   "source": [
    "### General Remark : Since we work at the post level - we always compute an average on all comments per posts"
   ]
  },
  {
   "cell_type": "code",
   "execution_count": 2,
   "id": "47e9676f-c1e9-4a22-aba4-2715fd4a2d91",
   "metadata": {
    "tags": []
   },
   "outputs": [],
   "source": [
    "import pandas as pd\n",
    "import os\n",
    "import spacy \n",
    "nlp = spacy.load(\"en_core_web_sm\")\n",
    "from tqdm import tqdm\n",
    "from collections import defaultdict \n",
    "#Import des tokenizers - sent_tokenize pour les phrases et word_tokenize pour les mots avec nltk\n",
    "from nltk.tokenize import sent_tokenize, word_tokenize\n",
    "#On commence par importer la BD Wordnet depuis NLTK\n",
    "from nltk.corpus import wordnet\n",
    "import statistics\n",
    "import numpy as np\n",
    "from numpy.linalg import norm\n",
    "import re\n",
    "from tqdm import tqdm\n",
    "\n",
    "import transformers\n",
    "from transformers import pipeline\n",
    "from transformers import AutoModelForSequenceClassification\n",
    "from transformers import TFAutoModelForSequenceClassification\n",
    "from transformers import BertTokenizer, BertForNextSentencePrediction\n",
    "from transformers import AutoTokenizer\n",
    "\n",
    "from scipy.special import softmax\n",
    "\n",
    "import torch\n",
    "\n",
    "#Import Perso libraries\n",
    "from ForIndivComments_Cognitive_AttentionAllocation import attention\n",
    "from ForIndivComments_Cognitive_ActionComprehension import comprehension\n",
    "from ForIndivComments_Cognitive_PriorExperience import experience\n",
    "from ForIndivComments_Cognitive_EvalPersonAction import evaluation\n",
    "from ForIndivComments_Cognitive_AnticipObserv import anticipation\n",
    "from ForIndivComments_Cognitive_Relations import construction\n",
    "from ForIndivComments_Affective import affect_relation\n",
    "from ForIndivComments_Behavioral import behavior\n",
    "\n",
    "import warnings\n",
    "warnings.filterwarnings('ignore')"
   ]
  },
  {
   "cell_type": "code",
   "execution_count": 4,
   "id": "012a44b3-8e5e-4a5a-9d9f-3920b30f56e4",
   "metadata": {},
   "outputs": [
    {
     "data": {
      "text/plain": [
       "True"
      ]
     },
     "execution_count": 4,
     "metadata": {},
     "output_type": "execute_result"
    }
   ],
   "source": [
    "torch.cuda.is_available()"
   ]
  },
  {
   "cell_type": "code",
   "execution_count": null,
   "id": "047d35b8-ebc1-4b15-936a-e9fbb5a5e72c",
   "metadata": {
    "tags": []
   },
   "outputs": [],
   "source": [
    "# Loading dataset from influencers\n",
    "#df_train = pd.read_csv(\"data/Train_Post_StoryPara_V1.csv\")\n",
    "#df_posts_train = df_train.dropna(subset=['PostText'])\n",
    "#df_valid = pd.read_csv(\"data/Valid_Post_StoryPara_V1.csv\")\n",
    "#df_posts_valid = df_valid.dropna(subset=['PostText'])\n",
    "#df_test = pd.read_csv(\"data/Test_Post_StoryPara_V1.csv\")\n",
    "#df_posts_test = df_test.dropna(subset=['PostText'])\n",
    "\n",
    "\n",
    "#Loading comments from users\n",
    "#df_train_c = pd.read_csv(\"data/Train_Comments_StoryPara_V1.csv\")\n",
    "#df_comments_train = df_train_c.dropna(subset=['CommentText'])\n",
    "#df_comments_train['PostSysID'] = df_comments_train['PostSysID'].astype(int) \n",
    "#df_valid_c = pd.read_csv(\"data/Valid_Comments_StoryPara_V1.csv\")\n",
    "#df_comments_valid = df_valid_c.dropna(subset=['CommentText'])\n",
    "#df_comments_valid['PostSysID'] = df_comments_valid['PostSysID'].astype(int) \n",
    "#df_test_c = pd.read_csv(\"data/Test_Comments_StoryPara_V1.csv\")\n",
    "#df_comments_test = df_test_c.dropna(subset=['CommentText'])\n",
    "#df_comments_test['PostSysID'] = df_comments_test['PostSysID'].astype(int) "
   ]
  },
  {
   "cell_type": "code",
   "execution_count": null,
   "id": "9e5ff028-c450-4c03-b6e8-f61e7d7e2fc0",
   "metadata": {
    "tags": []
   },
   "outputs": [],
   "source": [
    "########################### GEt IDs lists\n",
    "train_id = list(df_posts_train[\"PostSysID\"])\n",
    "valid_id = list(df_posts_valid[\"PostSysID\"])\n",
    "test_id = list(df_posts_test[\"PostSysID\"])"
   ]
  },
  {
   "cell_type": "code",
   "execution_count": 8,
   "id": "90431e64-6fa2-4cc6-ba69-50d40bc11d5c",
   "metadata": {
    "tags": []
   },
   "outputs": [],
   "source": [
    "#Function to pair to return lists of paired texts between Influencers and comments\n",
    "def pairing(post_id, df, df_comments):\n",
    "    \n",
    "    df_post_ID = df[df[\"PostSysID\"] == post_id]\n",
    "    df_comment_ID = df_comments[df_comments[\"PostSysID\"] == post_id]\n",
    "    assert len(df_post_ID) != 0\n",
    "    post_text = df_post_ID[\"PostText\"].iloc[0]\n",
    "    comments_list = list(df_comment_ID[\"CommentText\"])\n",
    "    \n",
    "    return post_text, comments_list"
   ]
  },
  {
   "cell_type": "markdown",
   "id": "4dfb39f2-5c79-44e3-84f4-82a237d00de2",
   "metadata": {},
   "source": [
    "# Part 1 - Cognitive Answer"
   ]
  },
  {
   "cell_type": "markdown",
   "id": "490c50cd-585e-4708-8367-dc33f058a77a",
   "metadata": {},
   "source": [
    "## Attention Allocation"
   ]
  },
  {
   "cell_type": "code",
   "execution_count": 8,
   "id": "7ca1915a-6289-4d16-b110-0cb58e7a7d26",
   "metadata": {
    "tags": []
   },
   "outputs": [],
   "source": [
    "def compute_attention(id_list, df_post, df_comments):\n",
    "    \n",
    "    att_func = attention()\n",
    "    for i in tqdm(range(len(id_list))):\n",
    "        post_text, comments_list = pairing(id_list[i], df_post, df_comments)\n",
    "        avg_min_all_com, avg_avg_all_com = att_func.attentive_vb(post_text, comments_list)\n",
    "        count_user_list = att_func.follow_previous(id_list[i], df_post, df_comments)\n",
    "        implication_list = att_func.post_implied(post_text, comments_list)\n",
    "\n",
    "        df_comments.loc[df_comments['PostSysID']==id_list[i], 'vb_avg_min']= avg_min_all_com\n",
    "        df_comments.loc[df_comments['PostSysID']==id_list[i], 'vb_avg_avg']= avg_avg_all_com\n",
    "        df_comments.loc[df_comments['PostSysID']==id_list[i], 'avg_previous']= count_user_list\n",
    "        df_comments.loc[df_comments['PostSysID']==id_list[i], 'implication_list']= implication_list\n",
    "    \n",
    "    return df_comments"
   ]
  },
  {
   "cell_type": "code",
   "execution_count": null,
   "id": "ec9f6978-2d8f-4ab1-bf2a-d0b56f9abba5",
   "metadata": {
    "scrolled": true
   },
   "outputs": [],
   "source": [
    "#DONE - FULL - FULL\n",
    "#df_new_valid = compute_attention(valid_id, df_posts_valid, df_comments_valid)\n",
    "#df_new_valid.to_csv(f'data/NEW_Valid_Comments_StoryPara_WithVariables.csv', index=False)\n",
    "\n",
    "#df_new_test = compute_attention(test_id, df_posts_test, df_comments_test)\n",
    "#df_new_test.to_csv(f'data/NEW_Test_Comments_StoryPara_withVariable.csv', index=False)"
   ]
  },
  {
   "cell_type": "markdown",
   "id": "597841a8-cac7-4537-84a6-bb93d9e65aaa",
   "metadata": {},
   "source": [
    "## Comprehension of actions and situation"
   ]
  },
  {
   "cell_type": "code",
   "execution_count": 10,
   "id": "ed60e615-52c5-49d8-89e5-187303760791",
   "metadata": {
    "tags": []
   },
   "outputs": [],
   "source": [
    "def compute_comprehension(id_list, df_post, df_comments):\n",
    "    \n",
    "    comp_func = comprehension()\n",
    "    for i in tqdm(range(len(id_list))):\n",
    "        post_text, comments_list = pairing(id_list[i], df_post, df_comments)\n",
    "        list_semantic = comp_func.semantic_sim(post_text, comments_list)\n",
    "        list_repeated = comp_func.repeated_kw(post_text, comments_list)\n",
    "        list_predicted = comp_func.comment_predicted(post_text, comments_list)\n",
    "        \n",
    "        df_comments.loc[df_comments['PostSysID']==id_list[i], 'semantic_similarity']= list_semantic\n",
    "        df_comments.loc[df_comments['PostSysID']==id_list[i], 'avg_repeat']= list_repeated\n",
    "        df_comments.loc[df_comments['PostSysID']==id_list[i], 'comment_predicted']= list_predicted\n",
    "    \n",
    "    return df_comments"
   ]
  },
  {
   "cell_type": "code",
   "execution_count": 12,
   "id": "69868460-fbd6-4511-bbf8-c3b993e26015",
   "metadata": {
    "scrolled": true
   },
   "outputs": [
    {
     "name": "stderr",
     "output_type": "stream",
     "text": [
      "  4%|███▍                                                                        | 224/5000 [52:23<41:38:20, 31.39s/it]Token indices sequence length is longer than the specified maximum sequence length for this model (542 > 512). Running this sequence through the model will result in indexing errors\n",
      "100%|███████████████████████████████████████████████████████████████████████████| 5000/5000 [20:25:30<00:00, 14.71s/it]\n",
      " 35%|█████████████████████████▋                                               | 1377/3920 [5:50:54<14:28:14, 20.49s/it]Token indices sequence length is longer than the specified maximum sequence length for this model (824 > 512). Running this sequence through the model will result in indexing errors\n",
      "100%|███████████████████████████████████████████████████████████████████████████| 3920/3920 [16:10:23<00:00, 14.85s/it]\n"
     ]
    }
   ],
   "source": [
    "#df_new_valid = compute_comprehension(valid_id, df_posts_valid, df_comments_valid)\n",
    "#df_new_valid.to_csv(f'data/NEW_Valid_Comments_StoryPara_WithVariables2.csv', index=False)\n",
    "\n",
    "#df_new_test = compute_comprehension(test_id, df_posts_test, df_comments_test)\n",
    "#df_new_test.to_csv(f'data/NEW_Test_Comments_StoryPara_withVariables2.csv', index=False)"
   ]
  },
  {
   "cell_type": "markdown",
   "id": "2b777cdc-09a2-45dc-859d-fcaa1516d06d",
   "metadata": {},
   "source": [
    "## Activation of prior experience"
   ]
  },
  {
   "cell_type": "code",
   "execution_count": 8,
   "id": "d2100f69-8ea5-4dd4-bd63-e440795d037a",
   "metadata": {
    "tags": []
   },
   "outputs": [],
   "source": [
    "def compute_priorexp(id_list, df_post, df_comments):\n",
    "    \n",
    "    exp_func = experience()\n",
    "    for i in tqdm(range(len(id_list))):\n",
    "        post_text, comments_list = pairing(id_list[i], df_post, df_comments)\n",
    "        #list_remember = exp_func.named_entities(comments_list)\n",
    "        #list_imply = exp_func.causal_subord(comments_list)\n",
    "        list_compare = exp_func.EN_compare(comments_list)\n",
    "\n",
    "        #df_comments.loc[df_comments['PostSysID']==id_list[i], 'past_exp']= list_remember\n",
    "        #df_comments.loc[df_comments['PostSysID']==id_list[i], 'impliedsituation']= list_imply\n",
    "        df_comments.loc[df_comments['PostSysID']==id_list[i], 'comparison']= list_compare\n",
    "        \n",
    "    return df_comments"
   ]
  },
  {
   "cell_type": "code",
   "execution_count": 10,
   "id": "7a49106c-742b-4845-83b8-4319da5d8177",
   "metadata": {},
   "outputs": [
    {
     "name": "stderr",
     "output_type": "stream",
     "text": [
      "100%|██████████████████████████████████████████████████████████████████████████████| 5000/5000 [44:51<00:00,  1.86it/s]\n",
      "100%|██████████████████████████████████████████████████████████████████████████████| 3920/3920 [35:42<00:00,  1.83it/s]\n"
     ]
    }
   ],
   "source": [
    "#DONE - FULL - FULL\n",
    "df_new_valid = compute_priorexp(valid_id, df_posts_valid, df_comments_valid)\n",
    "df_new_valid.to_csv(f'data/NEW_Valid_Comments_StoryPara_WithVariables2.csv', index=False)\n",
    "\n",
    "df_new_test = compute_priorexp(test_id, df_posts_test, df_comments_test)\n",
    "df_new_test.to_csv(f'data/NEW_Test_Comments_StoryPara_withVariables3.csv', index=False)"
   ]
  },
  {
   "cell_type": "markdown",
   "id": "0e0d8171-e7f4-44c7-8ad1-aab240804743",
   "metadata": {},
   "source": [
    "## Evaluation of Persona's actions"
   ]
  },
  {
   "cell_type": "code",
   "execution_count": 8,
   "id": "674f0f40-bad6-42da-a12a-f2991f824f12",
   "metadata": {
    "tags": []
   },
   "outputs": [],
   "source": [
    "### Faire le for loop ici avec le calc_score et la méthode method=\"m-1\"/method=\"m-2\" for subjectivity and neutrality\n",
    "def compute_evalperso(id_list, df_post, df_comments):\n",
    "    \n",
    "    eval_func = evaluation()\n",
    "\n",
    "    for i in tqdm(range(len(id_list))):\n",
    "        post_text, comments_list = pairing(id_list[i], df_post, df_comments)\n",
    "        #list_weak_subj, list_strong_subj = eval_func.subj_eval(comments_list)\n",
    "        list_neutral, list_objective = eval_func.calc_scores(comments_list, method=\"m-2\")\n",
    "\n",
    "        #df_comments.loc[df_comments['PostSysID']==id_list[i], 'weak_subj']= list_weak_subj\n",
    "       # df_comments.loc[df_comments['PostSysID']==id_list[i], 'strong_subj']= list_strong_subj\n",
    "        #df_comments.loc[df_comments['PostSysID']==id_list[i], 'neutral']= list_neutral\n",
    "        df_comments.loc[df_comments['PostSysID']==id_list[i], 'objective']= list_objective\n",
    "    \n",
    "    return df_comments"
   ]
  },
  {
   "cell_type": "code",
   "execution_count": 10,
   "id": "1b970dd0-287a-4f5d-bbdd-b7a51b6ca4f6",
   "metadata": {},
   "outputs": [
    {
     "name": "stderr",
     "output_type": "stream",
     "text": [
      "100%|██████████████████████████████████████████████████████████████████████████████| 5000/5000 [15:55<00:00,  5.23it/s]\n",
      "100%|██████████████████████████████████████████████████████████████████████████████| 3920/3920 [13:24<00:00,  4.87it/s]\n"
     ]
    }
   ],
   "source": [
    "############################################################################################\n",
    "#DONE - FULL - FULL\n",
    "#df_new_valid = compute_evalperso(valid_id, df_posts_valid, df_comments_valid)\n",
    "#df_new_valid.to_csv(f'data/NEW_Valid_Comments_StoryPara_WithVariables2.csv', index=False)\n",
    "\n",
    "#df_new_test = compute_evalperso(test_id, df_posts_test, df_comments_test)\n",
    "#df_new_test.to_csv(f'data/NEW_Test_Comments_StoryPara_withVariables3.csv', index=False)"
   ]
  },
  {
   "cell_type": "markdown",
   "id": "09806529-536c-49f7-9411-6defdca7aff4",
   "metadata": {},
   "source": [
    "## Anticipatory observation"
   ]
  },
  {
   "cell_type": "code",
   "execution_count": 14,
   "id": "620f552b-2fbf-45cb-83a3-be1941caa57f",
   "metadata": {},
   "outputs": [],
   "source": [
    "#For using those function you might process df_post to take user username list with the post and the comments\n",
    "def compute_anticipobser(id_list, df_post, df_comments):\n",
    "    \n",
    "    anticip_func = anticipation()\n",
    "    for i in tqdm(range(len(id_list))):\n",
    "        \n",
    "        post_text, comments_list = pairing(id_list[i], df_post, df_comments)\n",
    "        username = df_post[df_post['PostSysID'] == id_list[i]]['PostUser'].iloc[0]\n",
    "        list_brand_evo = anticip_func.brand_evo(username, comments_list)\n",
    "        list_brand_condi = anticip_func.brand_cond(username, comments_list)\n",
    "\n",
    "        df_comments.loc[df_comments['PostSysID']==id_list[i], 'brand_evolution']= list_brand_evo\n",
    "        df_comments.loc[df_comments['PostSysID']==id_list[i], 'brand_conditional']= list_brand_condi\n",
    "            \n",
    "    return df_comments"
   ]
  },
  {
   "cell_type": "code",
   "execution_count": 16,
   "id": "5e93ef68-f9a4-4e2b-9bc5-d8f2b75aa323",
   "metadata": {},
   "outputs": [
    {
     "name": "stderr",
     "output_type": "stream",
     "text": [
      "100%|████████████████████████████████████████████████████████████████████████████| 5000/5000 [1:26:40<00:00,  1.04s/it]\n",
      "100%|████████████████████████████████████████████████████████████████████████████| 3920/3920 [1:05:12<00:00,  1.00it/s]\n"
     ]
    }
   ],
   "source": [
    "#DONE - FULL - FULL\n",
    "#df_new_valid = compute_anticipobser(valid_id, df_posts_valid, df_comments_valid)\n",
    "#df_new_valid.to_csv(f'data/NEW_Valid_Comments_StoryPara_WithVariables2.csv', index=False)\n",
    "\n",
    "#df_new_test = compute_anticipobser(test_id, df_posts_test, df_comments_test)\n",
    "#df_new_test.to_csv(f'data/NEW_Test_Comments_StoryPara_withVariables3.csv', index=False)"
   ]
  },
  {
   "cell_type": "markdown",
   "id": "2887cf8a-737d-495b-8022-281734df5787",
   "metadata": {},
   "source": [
    "## Relation construction"
   ]
  },
  {
   "cell_type": "code",
   "execution_count": 20,
   "id": "a53aa45e-c28b-4562-80c4-020366d6a1d1",
   "metadata": {
    "tags": []
   },
   "outputs": [],
   "source": [
    "#For using those function you might process df_post to take user username list with the post and the comments\n",
    "def compute_relconstru(id_list, df_post, df_comments):\n",
    "    \n",
    "    construc_func = construction()\n",
    "    for i in tqdm(range(len(id_list))):\n",
    "        \n",
    "        post_text, comments_list = pairing(id_list[i], df_post, df_comments)\n",
    "        username = df_post[df_post['PostSysID'] == id_list[i]]['PostUser'].iloc[0]\n",
    "        list_context = construc_func.context_proj(username, comments_list)\n",
    "        list_obsession = construc_func.obsession(username, comments_list)\n",
    "        list_action = construc_func.action_link(username, comments_list)\n",
    "        list_mention = construc_func.direct_mention(username, comments_list)\n",
    "\n",
    "        df_comments.loc[df_comments['PostSysID']==id_list[i], 'contextual_projection']= list_context\n",
    "        df_comments.loc[df_comments['PostSysID']==id_list[i], 'obsession']= list_obsession\n",
    "        df_comments.loc[df_comments['PostSysID']==id_list[i], 'link_my_action']= list_action\n",
    "        df_comments.loc[df_comments['PostSysID']==id_list[i], 'direct_mention']= list_mention\n",
    "\n",
    "    return df_comments"
   ]
  },
  {
   "cell_type": "code",
   "execution_count": 22,
   "id": "4bbe1da7-50d8-4ccb-8adf-bebd204d11b0",
   "metadata": {},
   "outputs": [
    {
     "name": "stderr",
     "output_type": "stream",
     "text": [
      "100%|████████████████████████████████████████████████████████████████████████████| 5000/5000 [1:21:24<00:00,  1.02it/s]\n",
      "100%|████████████████████████████████████████████████████████████████████████████| 3920/3920 [1:02:09<00:00,  1.05it/s]\n"
     ]
    }
   ],
   "source": [
    "#DONE - FULL  - FULL\n",
    "#df_new_valid = compute_relconstru(valid_id, df_posts_valid, df_comments_valid)\n",
    "#df_new_valid.to_csv(f'data/NEW_Valid_Comments_StoryPara_WithVariables2.csv', index=False)\n",
    "\n",
    "#df_new_test = compute_relconstru(test_id, df_posts_test, df_comments_test)\n",
    "#df_new_test.to_csv(f'data/NEW_Test_Comments_StoryPara_withVariables3.csv', index=False)"
   ]
  },
  {
   "cell_type": "markdown",
   "id": "546ba3e4-2d52-40f9-850b-a5ea484bb623",
   "metadata": {},
   "source": [
    "# Part 2 - Affective"
   ]
  },
  {
   "cell_type": "markdown",
   "id": "2d5db233-580a-4404-bb01-dc2011545197",
   "metadata": {},
   "source": [
    "## Sympathy / Empathy / Sentiment contagion"
   ]
  },
  {
   "cell_type": "code",
   "execution_count": 10,
   "id": "1b782cf9-5142-47fe-ba77-26740f4190b8",
   "metadata": {},
   "outputs": [],
   "source": [
    "#For using those function you might process df_post to take user username list with the post and the comments\n",
    "def compute_affect(id_list, df_post, df_comments):\n",
    "    \n",
    "    affect_func = affect_relation()\n",
    "\n",
    "    for i in tqdm(range(len(id_list))):\n",
    "        post_text, comments_list = pairing(id_list[i], df_post, df_comments)\n",
    "        list_sentiment, list_intense = affect_func.sentiment(comments_list, feel_threshold=0.8)\n",
    "        list_empathy, list_same_intens = affect_func.empathy(post_text, comments_list, sim_intens=0.1)\n",
    "        list_contagion = affect_func.contagion(post_text, comments_list)\n",
    "        list_letterrepeat = affect_func.nb_letter_repeat(comments_list)\n",
    "        list_letterupper = affect_func.prop_upper(comments_list)\n",
    "\n",
    "        df_comments.loc[df_comments['PostSysID']==id_list[i], 'sentiment']= list_sentiment\n",
    "        df_comments.loc[df_comments['PostSysID']==id_list[i], 'intensity']= list_intense\n",
    "        df_comments.loc[df_comments['PostSysID']==id_list[i], 'empathy']= list_empathy\n",
    "        df_comments.loc[df_comments['PostSysID']==id_list[i], 'same_intensity']= list_same_intens\n",
    "        df_comments.loc[df_comments['PostSysID']==id_list[i], 'sentiment_contagion']= list_contagion\n",
    "        df_comments.loc[df_comments['PostSysID']==id_list[i], 'nb_letter_repeat']= list_letterrepeat\n",
    "        df_comments.loc[df_comments['PostSysID']==id_list[i], 'nb_uppercase']= list_letterupper\n",
    "\n",
    "    return df_comments"
   ]
  },
  {
   "cell_type": "code",
   "execution_count": 12,
   "id": "3490dd14-b9ba-41a9-9e4c-297465d3d0e5",
   "metadata": {},
   "outputs": [
    {
     "name": "stderr",
     "output_type": "stream",
     "text": [
      "100%|███████████████████████████████████████████████████████████████████████████| 5000/5000 [22:33:56<00:00, 16.25s/it]\n",
      "100%|███████████████████████████████████████████████████████████████████████████| 3920/3920 [21:09:01<00:00, 19.42s/it]\n"
     ]
    }
   ],
   "source": [
    "#DONE - FULL - FULL\n",
    "#df_new_valid = compute_affect(valid_id, df_posts_valid, df_comments_valid)\n",
    "#df_new_valid.to_csv(f'data/NEW_Valid_Comments_StoryPara_WithVariables2.csv', index=False)\n",
    "\n",
    "#df_new_test = compute_affect(test_id, df_posts_test, df_comments_test)\n",
    "#df_new_test.to_csv(f'data/NEW_Test_Comments_StoryPara_withVariables3.csv', index=False)"
   ]
  },
  {
   "cell_type": "markdown",
   "id": "c678b770-b8b8-412e-b79c-1e8ece1c7f85",
   "metadata": {},
   "source": [
    "# Part 3 - Behavioral"
   ]
  },
  {
   "cell_type": "markdown",
   "id": "cf892f8c-b2bf-451e-8bb4-e1acbcd97bda",
   "metadata": {},
   "source": [
    "## Non verbal / Para verbal / intentions"
   ]
  },
  {
   "cell_type": "code",
   "execution_count": 8,
   "id": "293df33e-b362-4c0d-8bab-e74420619fb6",
   "metadata": {
    "tags": []
   },
   "outputs": [],
   "source": [
    "#For using those function you might process df_post to take user username list with the post and the comments\n",
    "def compute_behavior(id_list, df_post, df_comments):\n",
    "    \n",
    "    behav_func = behavior()\n",
    "    for i in tqdm(range(len(id_list))):\n",
    "        post_text, comments_list = pairing(id_list[i], df_post, df_comments)\n",
    "        username = df_post[df_post['PostSysID'] == id_list[i]]['PostUser'].iloc[0]\n",
    "        \n",
    "        list_emoji, list_nb_emoji = behav_func.behav_emoji(comments_list)\n",
    "        list_nb_comments = behav_func.nb_comments(comments_list)\n",
    "        list_slangs = behav_func.behav_slangs(comments_list)\n",
    "        list_mistakes, list_grammar = behav_func.error_type(comments_list)\n",
    "        list_time_to_write = behav_func.take_time_to_write(comments_list, username, nb_words = 20, nb_charac=80)\n",
    "        list_answer = behav_func.answer(comments_list, username)\n",
    "        list_intent = behav_func.intent(comments_list)\n",
    "\n",
    "        df_comments.loc[df_comments['PostSysID']==id_list[i], 'emojis']= list_emoji\n",
    "        df_comments.loc[df_comments['PostSysID']==id_list[i], 'nb_comments_emojis']= list_nb_emoji\n",
    "        df_comments.loc[df_comments['PostSysID']==id_list[i], 'nb_comments']= list_nb_comments\n",
    "        df_comments.loc[df_comments['PostSysID']==id_list[i], 'nb_slangs']= list_slangs\n",
    "        df_comments.loc[df_comments['PostSysID']==id_list[i], 'nb_mistakes']= list_mistakes\n",
    "        df_comments.loc[df_comments['PostSysID']==id_list[i], 'nb_grammar_errors']= list_grammar\n",
    "        df_comments.loc[df_comments['PostSysID']==id_list[i], 'time_to_write']= list_time_to_write\n",
    "        df_comments.loc[df_comments['PostSysID']==id_list[i], 'nb_answers']= list_answer\n",
    "        df_comments.loc[df_comments['PostSysID']==id_list[i], 'intent']= list_intent\n",
    "        \n",
    "    return df_comments"
   ]
  },
  {
   "cell_type": "code",
   "execution_count": 10,
   "id": "b85f019a-525e-4ca5-be1f-59222c873a3f",
   "metadata": {},
   "outputs": [
    {
     "name": "stderr",
     "output_type": "stream",
     "text": [
      "100%|████████████████████████████████████████████████████████████████████████████| 5000/5000 [4:38:29<00:00,  3.34s/it]\n",
      "100%|████████████████████████████████████████████████████████████████████████████| 3920/3920 [3:51:44<00:00,  3.55s/it]\n"
     ]
    }
   ],
   "source": [
    "\n",
    "#DONE - FULL - FULL\n",
    "df_new_valid = compute_behavior(valid_id, df_posts_valid, df_comments_valid)\n",
    "df_new_valid.to_csv(f'data/NEW_Valid_Comments_StoryPara_WithVariables2.csv', index=False)\n",
    "\n",
    "df_new_test = compute_behavior(test_id, df_posts_test, df_comments_test)\n",
    "df_new_test.to_csv(f'data/NEW_Test_Comments_StoryPara_withVariables3.csv', index=False)"
   ]
  },
  {
   "cell_type": "markdown",
   "id": "12954e35-0077-4a9d-95d0-548390c4b582",
   "metadata": {},
   "source": [
    "# Computing everything"
   ]
  },
  {
   "cell_type": "code",
   "execution_count": null,
   "id": "b8bc9d77-7102-4101-a233-bfa64edbe783",
   "metadata": {
    "scrolled": true,
    "tags": []
   },
   "outputs": [],
   "source": [
    "#DONE - FULL - FULL\n",
    "df_new_valid = compute_attention(valid_id, df_posts_valid, df_comments_valid)\n",
    "df_new_valid.to_csv(f'data/Valid_Parasocial_att_withVariable.csv', index=False)\n",
    "\n",
    "df_new_test = compute_attention(test_id, df_posts_test, df_comments_test)\n",
    "df_new_test.to_csv(f'data/Test_Parasocial_att_withVariable.csv', index=False)"
   ]
  },
  {
   "cell_type": "code",
   "execution_count": null,
   "id": "016dfaef-532c-4985-b648-6da253648fe4",
   "metadata": {
    "scrolled": true,
    "tags": []
   },
   "outputs": [],
   "source": [
    "#DONE - FULL - FULL\n",
    "df_new_valid = compute_comprehension(valid_id, df_posts_valid, df_comments_valid)\n",
    "df_new_valid.to_csv(f'data/Valid_Parasocial_comp_withVariable.csv', index=False)\n",
    "\n",
    "df_new_test = compute_comprehension(test_id, df_posts_test, df_comments_test)\n",
    "df_new_test.to_csv(f'data/Test_Parasocial_comp_withVariable.csv', index=False)"
   ]
  },
  {
   "cell_type": "code",
   "execution_count": 14,
   "id": "8e3ce8e0-5042-48b1-a6d0-ca140f96a958",
   "metadata": {},
   "outputs": [],
   "source": [
    "#DONE - FULL - FULL\n",
    "df_new_valid = compute_priorexp(valid_id, df_posts_valid, df_comments_valid)\n",
    "df_new_valid.to_csv(f'data/Valid_Parasocial_prior_withVariable.csv', index=False)\n",
    "\n",
    "df_new_test = compute_priorexp(test_id, df_posts_test, df_comments_test)\n",
    "df_new_test.to_csv(f'data/Test_Parasocial_prior_withVariable.csv', index=False)"
   ]
  },
  {
   "cell_type": "code",
   "execution_count": 13,
   "id": "4ee78aaf-6d21-4e74-aa2b-22a157868148",
   "metadata": {},
   "outputs": [
    {
     "name": "stderr",
     "output_type": "stream",
     "text": [
      "100%|████████████████████████████████████████████████████████████████████████████| 5000/5000 [7:08:24<00:00,  5.14s/it]\n",
      "100%|████████████████████████████████████████████████████████████████████████████| 3920/3920 [3:29:11<00:00,  3.20s/it]\n"
     ]
    }
   ],
   "source": [
    "#DONE - FULL - FULL\n",
    "df_new_valid = compute_evalperso(valid_id, df_posts_valid, df_comments_valid)\n",
    "df_new_valid.to_csv(f'data/Valid_Parasocial_eval_withVariable.csv', index=False)\n",
    "\n",
    "df_new_test = compute_evalperso(test_id, df_posts_test, df_comments_test)\n",
    "df_new_test.to_csv(f'data/Test_Parasocial_eval_withVariable.csv', index=False)"
   ]
  },
  {
   "cell_type": "code",
   "execution_count": 13,
   "id": "7bbc2749-03e5-4f68-8e31-4611feca0934",
   "metadata": {},
   "outputs": [
    {
     "name": "stderr",
     "output_type": "stream",
     "text": [
      "100%|████████████████████████████████████████████████████████████████████████████| 5000/5000 [2:34:15<00:00,  1.85s/it]\n",
      "100%|████████████████████████████████████████████████████████████████████████████| 3920/3920 [2:02:10<00:00,  1.87s/it]\n"
     ]
    }
   ],
   "source": [
    "#DONE - FULL - FULL\n",
    "df_new_valid = compute_anticipobser(valid_id, df_posts_valid, df_comments_valid)\n",
    "df_new_valid.to_csv(f'data/Valid_Parasocial_anticip_withVariable.csv', index=False)\n",
    "\n",
    "df_new_test = compute_anticipobser(test_id, df_posts_test, df_comments_test)\n",
    "df_new_test.to_csv(f'data/Test_Parasocial_anticip_withVariable.csv', index=False)"
   ]
  },
  {
   "cell_type": "code",
   "execution_count": 14,
   "id": "ca0091a5-ee8a-4771-a136-17700225c1f4",
   "metadata": {},
   "outputs": [],
   "source": [
    "#DONE - FULL  - FULL\n",
    "df_new_valid = compute_relconstru(valid_id, df_posts_valid, df_comments_valid)\n",
    "df_new_valid.to_csv(f'data/Valid_Parasocial_rel_withVariable.csv', index=False)\n",
    "\n",
    "df_new_test = compute_relconstru(test_id, df_posts_test, df_comments_test)\n",
    "df_new_test.to_csv(f'data/Test_Parasocial_rel_withVariable.csv', index=False)"
   ]
  },
  {
   "cell_type": "code",
   "execution_count": 13,
   "id": "ec1eb0c9-7739-42fa-affd-cd912197efd2",
   "metadata": {},
   "outputs": [
    {
     "name": "stderr",
     "output_type": "stream",
     "text": [
      "100%|███████████████████████████████████████████████████████████████████████████| 5000/5000 [27:07:25<00:00, 19.53s/it]\n",
      "100%|███████████████████████████████████████████████████████████████████████████| 3920/3920 [21:15:45<00:00, 19.53s/it]\n"
     ]
    }
   ],
   "source": [
    "#DONE - FULL - FULL\n",
    "df_new_valid = compute_affect(valid_id, df_posts_valid, df_comments_valid)\n",
    "df_new_valid.to_csv(f'data/Valid_Parasocial_affect_withVariable.csv', index=False)\n",
    "\n",
    "df_new_test = compute_affect(test_id, df_posts_test, df_comments_test)\n",
    "df_new_test.to_csv(f'data/Test_Parasocial_affect_withVariable.csv', index=False)"
   ]
  },
  {
   "cell_type": "code",
   "execution_count": 13,
   "id": "2ec3d49c-308b-41da-94d4-bb876c4ff559",
   "metadata": {},
   "outputs": [],
   "source": [
    "#DONE - FULL - FULL\n",
    "df_new_valid = compute_behavior(valid_id, df_posts_valid, df_comments_valid)\n",
    "df_new_valid.to_csv(f'data/Valid_Parasocial_behav_withVariable.csv', index=False)\n",
    "\n",
    "df_new_test = compute_behavior(test_id, df_posts_test, df_comments_test)\n",
    "df_new_test.to_csv(f'data/Test_Parasocial_behav_withVariable.csv', index=False)"
   ]
  },
  {
   "cell_type": "markdown",
   "id": "1050555d-9afa-4a1d-90ea-8f4f8b4b1111",
   "metadata": {},
   "source": [
    "# Recomputing the ones that did not work"
   ]
  },
  {
   "cell_type": "code",
   "execution_count": 9,
   "id": "60fec78d-2471-4266-80d3-862ef6c05ac6",
   "metadata": {
    "tags": []
   },
   "outputs": [],
   "source": [
    "#def compute_fail(id_list, df_post, df_comments):\n",
    "#    \n",
    "#    behav_func = behavior()\n",
    "#    eval_func = evaluation()\n",
    "#    comp_func = comprehension()\n",
    "#    \n",
    "#    list_emoji, list_nb_emoji, list_repeated, list_neutral, list_objective = [], [], [], [], []\n",
    "#    for i in tqdm(range(len(id_list))):\n",
    "#        post_text, comments_list = pairing(id_list[i], df_post, df_comments)\n",
    "#        username = df_post[df_post['PostSysID'] == id_list[i]]['PostUser'].iloc[0]\n",
    "#        \n",
    "#        avg_emojis, nb_comment_emoji = behav_func.behav_emoji(comments_list)\n",
    "#        neutral, objective = eval_func.calc_scores(comments_list, method=\"m-1\")\n",
    "#        avg_repeat = comp_func.repeated_kw(post_text, comments_list)\n",
    "#        \n",
    "#        list_emoji.append(avg_emojis)\n",
    "#        list_nb_emoji.append(nb_comment_emoji)\n",
    "#        list_repeated.append(avg_repeat)\n",
    "#        list_neutral.append(neutral)\n",
    "#        list_objective.append(objective)\n",
    "#        \n",
    "#    df_post[\"emojis\"] = list_emoji\n",
    "#    df_post[\"nb_comments_emojis\"] = nb_comment_emoji\n",
    "#    df_post[\"neutral\"] = list_neutral\n",
    "#    df_post[\"objectivity\"] = list_objective\n",
    "#    df_post[\"avg_repeat\"] = list_repeated\n",
    "#    \n",
    "#    return df_post"
   ]
  },
  {
   "cell_type": "code",
   "execution_count": 10,
   "id": "8e2a14a7-1ee8-4bcd-bcb0-48e35fc604f5",
   "metadata": {
    "tags": []
   },
   "outputs": [
    {
     "name": "stderr",
     "output_type": "stream",
     "text": [
      "100%|██████████████████████████████████████████████████████████████████████████████| 5000/5000 [12:12<00:00,  6.83it/s]\n",
      "100%|██████████████████████████████████████████████████████████████████████████████| 3920/3920 [09:37<00:00,  6.79it/s]\n"
     ]
    }
   ],
   "source": [
    "df_new_valid = compute_fail(valid_id, df_posts_valid, df_comments_valid)\n",
    "df_new_valid.to_csv(f'data/Valid_Parasocial_failed_withVariable.csv', index=False)\n",
    "\n",
    "df_new_test = compute_fail(test_id, df_posts_test, df_comments_test)\n",
    "df_new_test.to_csv(f'data/Test_Parasocial_failed_withVariable.csv', index=False)"
   ]
  },
  {
   "cell_type": "markdown",
   "id": "3b11c27a-daa8-4eb3-9f0e-5ebf15997fe9",
   "metadata": {},
   "source": [
    "## Nouvelles variables après correction"
   ]
  },
  {
   "cell_type": "code",
   "execution_count": 12,
   "id": "b69b6385-d000-4de6-8f18-7fdc00de9104",
   "metadata": {},
   "outputs": [],
   "source": [
    "def engage_rate(post_id, df_post, df_comments):\n",
    "        \n",
    "        #GEtting the username and the date linked to the post\n",
    "        temp = df_post[df_post[\"PostSysID\"] == post_id]\n",
    "        user_name = temp[\"PostUser\"].iloc[0]\n",
    "        post_date = temp[\"PostDate\"].iloc[0]\n",
    "\n",
    "        #Getting the dataframe of all posts associated to the user\n",
    "        df_user = df_post[df_post[\"PostUser\"] == user_name]\n",
    "        #Getting post_id list of previous posts of that user and post afters\n",
    "        post_id_prev = df_user[df_user[\"PostDate\"] < post_date][\"PostSysID\"]\n",
    "        post_id_after = df_user[df_user[\"PostDate\"] >= post_date][\"PostSysID\"]\n",
    "        \n",
    "        #GEtting the current commenters list\n",
    "        commenter_list = list(df_comments[df_comments[\"PostSysID\"] == post_id][\"CommentUser\"])\n",
    "        \n",
    "        #Collecting comments associated to previous and post after the current post : \n",
    "        df_comments_prev = df_comments[df_comments[\"PostSysID\"].isin(post_id_prev)]\n",
    "        prev_commenter_list = list(df_comments_prev[\"CommentUser\"])\n",
    "        \n",
    "        df_comments_after = df_comments[df_comments[\"PostSysID\"].isin(post_id_after)]\n",
    "        after_commenter_list = list(df_comments_after[\"CommentUser\"])\n",
    "        \n",
    "        avg_user_count = []\n",
    "        for user in commenter_list:\n",
    "            count_prev = prev_commenter_list.count(user)\n",
    "            count_after = after_commenter_list.count(user)\n",
    "            engage_ratio = count_after / (count_prev + 1)\n",
    "            avg_user_count.append(engage_ratio)\n",
    "\n",
    "        #On average user have commented n previous posts of the same instagram influencer\n",
    "        return avg_user_count"
   ]
  },
  {
   "cell_type": "code",
   "execution_count": 16,
   "id": "fb225b40-5ee7-4e83-a80e-1bedffc0e326",
   "metadata": {},
   "outputs": [
    {
     "name": "stderr",
     "output_type": "stream",
     "text": [
      "100%|██████████████████████████████████████████████████████████████████████████████| 3920/3920 [06:47<00:00,  9.62it/s]\n"
     ]
    }
   ],
   "source": [
    "# POUR VALID -- \n",
    "###############ATTENTION -- RELOAD FILE WITH THE COLUMN ALREADY SAVE -- COMMENTS WITH THE NEW VARIABLES\n",
    "df_train = pd.read_csv(\"data/Train_Post_StoryPara_V1.csv\")\n",
    "df_posts_train = df_train.dropna(subset=['PostText'])\n",
    "df_valid = pd.read_csv(\"data/Valid_Post_StoryPara_V1.csv\")\n",
    "df_posts_valid = df_valid.dropna(subset=['PostText'])\n",
    "df_test = pd.read_csv(\"data/Test_Post_StoryPara_V1.csv\")\n",
    "df_posts_test = df_test.dropna(subset=['PostText'])\n",
    "\n",
    "df_valid_c = pd.read_csv(\"data/NEW_Valid_Comments_StoryPara_WithVariables2.csv\")\n",
    "df_comments_valid = df_valid_c.dropna(subset=['CommentText'])\n",
    "df_comments_valid['PostSysID'] = df_comments_valid['PostSysID'].astype(int) \n",
    "df_test_c = pd.read_csv(\"data/NEW_Test_Comments_StoryPara_withVariables3.csv\")\n",
    "df_comments_test = df_test_c.dropna(subset=['CommentText'])\n",
    "df_comments_test['PostSysID'] = df_comments_test['PostSysID'].astype(int)\n",
    "valid_id = list(df_posts_valid[\"PostSysID\"])\n",
    "test_id = list(df_posts_test[\"PostSysID\"])\n",
    "\n",
    "#for i in tqdm(range(len(valid_id))):\n",
    " #   post_text, comments_list = pairing(valid_id[i], df_posts_valid, df_comments_valid)\n",
    "#    username = df_posts_valid[df_posts_valid['PostSysID'] == valid_id[i]]['PostUser'].iloc[0]\n",
    "#    list_enage = engage_rate(valid_id[i], df_posts_valid, df_comments_valid)\n",
    "    \n",
    "#    df_comments_valid.loc[df_comments_valid['PostSysID']==valid_id[i], 'engage_rate']= list_enage\n",
    "\n",
    "#df_comments_valid.to_csv(f'data/NEW_Valid_Comments_StoryPara_WithVariables2.csv', index=False)\n",
    "\n",
    "for i in tqdm(range(len(test_id))):\n",
    "    post_text, comments_list = pairing(test_id[i], df_posts_test, df_comments_test)\n",
    "    username = df_posts_test[df_posts_test['PostSysID'] == test_id[i]]['PostUser'].iloc[0]\n",
    "    list_enage = engage_rate(test_id[i], df_posts_test, df_comments_test)\n",
    "    \n",
    "    df_comments_test.loc[df_comments_test['PostSysID']==test_id[i], 'engage_rate']= list_enage"
   ]
  },
  {
   "cell_type": "code",
   "execution_count": 11,
   "id": "e341b82d-7604-42b3-932d-66be114be1fa",
   "metadata": {
    "tags": []
   },
   "outputs": [
    {
     "name": "stderr",
     "output_type": "stream",
     "text": [
      "100%|██████████████████████████████████████████████████████████████████████████████| 3920/3920 [09:25<00:00,  6.93it/s]\n"
     ]
    }
   ],
   "source": [
    "## POUR TEST -- \n",
    "##relancer pour corriger ce bug\n",
    "#test_id = list(df_posts_test[\"PostSysID\"])\n",
    "#\n",
    "#exp_func = experience()\n",
    "#comp_func = comprehension()\n",
    "#behav_func = behavior()\n",
    "#\n",
    "#list_enage, list_imply, list_time_to_write, list_repeat, list_comment_emoji = [], [], [], [], []\n",
    "#for i in tqdm(range(len(test_id))):\n",
    "#    post_text, comments_list = pairing(test_id[i], df_posts_test, df_comments_test)\n",
    "#    username = df_posts_test[df_posts_test['PostSysID'] == test_id[i]]['PostUser'].iloc[0]\n",
    "#    \n",
    "#    avg_engage = engage_rate(test_id[i], df_posts_test, df_comments_test)\n",
    "#    avg_imply = exp_func.causal_subord(comments_list)\n",
    "#    avg_repeat = comp_func.repeated_kw(post_text, comments_list)\n",
    "#    avg_time_to_write = behav_func.take_time_to_write(comments_list, username, nb_words = 20, nb_charac=80)\n",
    "#    _, nb_comment_emoji = behav_func.behav_emoji(comments_list)\n",
    "#    \n",
    "#    list_enage.append(avg_engage)\n",
    "#    list_imply.append(avg_imply)\n",
    "#    list_time_to_write.append(avg_time_to_write)\n",
    "#    list_repeat.append(avg_repeat)\n",
    "#    list_comment_emoji.append(nb_comment_emoji)\n",
    "#    \n",
    "#df_posts_test[\"nb_comments_emojis\"] = list_comment_emoji\n",
    "#df_posts_test[\"engage_rate\"] = list_enage\n",
    "#df_posts_test[\"comments_implied\"] = list_imply\n",
    "#df_posts_test[\"avg_repeat\"] = list_repeat\n",
    "#df_posts_test[\"time_to_write\"] = list_time_to_write\n",
    "#\n",
    "#df_posts_test.to_csv(f'data/Test_Parasocial_Corrected.csv', index=False)"
   ]
  },
  {
   "cell_type": "code",
   "execution_count": null,
   "id": "1966687e-a484-4cb6-bb42-bdfdfe84bd3b",
   "metadata": {},
   "outputs": [],
   "source": []
  }
 ],
 "metadata": {
  "kernelspec": {
   "display_name": "Python 3 (ipykernel)",
   "language": "python",
   "name": "python3"
  },
  "language_info": {
   "codemirror_mode": {
    "name": "ipython",
    "version": 3
   },
   "file_extension": ".py",
   "mimetype": "text/x-python",
   "name": "python",
   "nbconvert_exporter": "python",
   "pygments_lexer": "ipython3",
   "version": "3.12.3"
  }
 },
 "nbformat": 4,
 "nbformat_minor": 5
}
